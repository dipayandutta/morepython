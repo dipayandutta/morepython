{
 "cells": [
  {
   "cell_type": "code",
   "execution_count": 3,
   "id": "7a4308fa-20cc-4409-bc43-c899314dbf9f",
   "metadata": {},
   "outputs": [],
   "source": [
    "dict = {'a':1,'b':2,'c':3}"
   ]
  },
  {
   "cell_type": "code",
   "execution_count": 4,
   "id": "e0c58d71-257a-45f3-9903-379b1442fda5",
   "metadata": {},
   "outputs": [
    {
     "name": "stdout",
     "output_type": "stream",
     "text": [
      "{'a': 1, 'b': 2, 'c': 3}\n"
     ]
    }
   ],
   "source": [
    "print(dict)"
   ]
  },
  {
   "cell_type": "code",
   "execution_count": 5,
   "id": "4ab046dc-050e-4a63-b422-e9c09e246871",
   "metadata": {},
   "outputs": [
    {
     "ename": "ValueError",
     "evalue": "not enough values to unpack (expected 2, got 1)",
     "output_type": "error",
     "traceback": [
      "\u001b[1;31m---------------------------------------------------------------------------\u001b[0m",
      "\u001b[1;31mValueError\u001b[0m                                Traceback (most recent call last)",
      "Cell \u001b[1;32mIn[5], line 1\u001b[0m\n\u001b[1;32m----> 1\u001b[0m \u001b[38;5;28;01mfor\u001b[39;00m(key,value) \u001b[38;5;129;01min\u001b[39;00m \u001b[38;5;28mdict\u001b[39m:\n\u001b[0;32m      2\u001b[0m     \u001b[38;5;28mprint\u001b[39m(key)\n",
      "\u001b[1;31mValueError\u001b[0m: not enough values to unpack (expected 2, got 1)"
     ]
    }
   ],
   "source": [
    "for(key,value) in dict:\n",
    "    print(key)"
   ]
  },
  {
   "cell_type": "code",
   "execution_count": 6,
   "id": "786f8847-ff59-4185-95ed-c3033526d8bd",
   "metadata": {},
   "outputs": [
    {
     "name": "stdout",
     "output_type": "stream",
     "text": [
      "a\n",
      "b\n",
      "c\n"
     ]
    }
   ],
   "source": [
    "for (key,value) in dict.items():\n",
    "    print(key)"
   ]
  },
  {
   "cell_type": "code",
   "execution_count": 10,
   "id": "084797e0-37de-4786-8465-0def1fd5b7c3",
   "metadata": {},
   "outputs": [
    {
     "name": "stdout",
     "output_type": "stream",
     "text": [
      "1\n",
      "2\n",
      "3\n"
     ]
    }
   ],
   "source": [
    "lst = [1,2,3]\n",
    "for i in (lst):\n",
    "    print(i)"
   ]
  },
  {
   "cell_type": "code",
   "execution_count": 11,
   "id": "8b81f321-4682-4db9-96fe-1a062b7ebddd",
   "metadata": {},
   "outputs": [
    {
     "name": "stdout",
     "output_type": "stream",
     "text": [
      "{'a': 1, 'b': 2, 'c': 3}\n"
     ]
    }
   ],
   "source": [
    "print(dict)"
   ]
  },
  {
   "cell_type": "code",
   "execution_count": 12,
   "id": "496a79ed-6daa-4d11-9143-b731ee0f8e99",
   "metadata": {},
   "outputs": [
    {
     "name": "stdout",
     "output_type": "stream",
     "text": [
      "(0, 'a')\n",
      "(1, 'b')\n",
      "(2, 'c')\n"
     ]
    }
   ],
   "source": [
    "for i in enumerate(dict):\n",
    "    print(i)"
   ]
  },
  {
   "cell_type": "code",
   "execution_count": 13,
   "id": "2b635842-72e3-4f0d-a3f9-7e638e91a777",
   "metadata": {},
   "outputs": [
    {
     "name": "stdout",
     "output_type": "stream",
     "text": [
      "(0, 1)\n",
      "(1, 2)\n",
      "(2, 3)\n"
     ]
    }
   ],
   "source": [
    "for i in enumerate(dict.values()):\n",
    "    print(i)"
   ]
  },
  {
   "cell_type": "code",
   "execution_count": 14,
   "id": "f4809012-7cc8-4bf3-bef4-70d385d5e928",
   "metadata": {},
   "outputs": [
    {
     "name": "stdout",
     "output_type": "stream",
     "text": [
      "(0, 'a')\n",
      "(1, 'b')\n",
      "(2, 'c')\n"
     ]
    }
   ],
   "source": [
    "for i in enumerate(dict.keys()):\n",
    "    print(i)"
   ]
  },
  {
   "cell_type": "markdown",
   "id": "584a5a6a-a5ea-48e4-a776-c4ce9be00ff9",
   "metadata": {},
   "source": [
    "#### tuple ########"
   ]
  },
  {
   "cell_type": "code",
   "execution_count": 15,
   "id": "9be19731-22ae-443c-838f-917ab6609eff",
   "metadata": {},
   "outputs": [
    {
     "name": "stdout",
     "output_type": "stream",
     "text": [
      "()\n"
     ]
    }
   ],
   "source": [
    "# define a tuple\n",
    "my_tupple = ()\n",
    "print(my_tupple)"
   ]
  },
  {
   "cell_type": "code",
   "execution_count": 16,
   "id": "edea3b0e-5501-4685-b72f-f6a40c98ee0f",
   "metadata": {},
   "outputs": [
    {
     "name": "stdout",
     "output_type": "stream",
     "text": [
      "<class 'tuple'>\n"
     ]
    }
   ],
   "source": [
    "print(type(my_tupple))"
   ]
  },
  {
   "cell_type": "code",
   "execution_count": 17,
   "id": "fa9d1452-e2f3-4570-b669-c47175efaa04",
   "metadata": {},
   "outputs": [],
   "source": [
    "my_tupple = (1,2,2)"
   ]
  },
  {
   "cell_type": "code",
   "execution_count": 18,
   "id": "ab9f86ff-fe32-49c0-8a7b-9ef7f82bfba3",
   "metadata": {},
   "outputs": [
    {
     "name": "stdout",
     "output_type": "stream",
     "text": [
      "(1, 2, 2)\n"
     ]
    }
   ],
   "source": [
    "print(my_tupple)"
   ]
  },
  {
   "cell_type": "code",
   "execution_count": 19,
   "id": "0009a9e7-8816-45d8-900c-d0fb85e9b9e4",
   "metadata": {},
   "outputs": [],
   "source": [
    "# non- homogenous datatype\n",
    "my_tuple = (1,\"Hello World\",23.2)"
   ]
  },
  {
   "cell_type": "code",
   "execution_count": 20,
   "id": "bc522fc4-912f-4f1e-bb1f-5972ca3d5e72",
   "metadata": {},
   "outputs": [
    {
     "name": "stdout",
     "output_type": "stream",
     "text": [
      "(1, 'Hello World', 23.2)\n"
     ]
    }
   ],
   "source": [
    "print(my_tuple)"
   ]
  },
  {
   "cell_type": "code",
   "execution_count": 21,
   "id": "38daf591-a744-48d4-bdbd-16964603a5d4",
   "metadata": {},
   "outputs": [],
   "source": [
    "# delete a tuple \n",
    "del(my_tuple)"
   ]
  },
  {
   "cell_type": "code",
   "execution_count": 22,
   "id": "e403c7ee-327c-4454-8db6-2ef2c6595268",
   "metadata": {},
   "outputs": [
    {
     "ename": "NameError",
     "evalue": "name 'my_tuple' is not defined",
     "output_type": "error",
     "traceback": [
      "\u001b[1;31m---------------------------------------------------------------------------\u001b[0m",
      "\u001b[1;31mNameError\u001b[0m                                 Traceback (most recent call last)",
      "Cell \u001b[1;32mIn[22], line 1\u001b[0m\n\u001b[1;32m----> 1\u001b[0m \u001b[38;5;28mprint\u001b[39m(\u001b[43mmy_tuple\u001b[49m)\n",
      "\u001b[1;31mNameError\u001b[0m: name 'my_tuple' is not defined"
     ]
    }
   ],
   "source": [
    "print(my_tuple)"
   ]
  },
  {
   "cell_type": "code",
   "execution_count": 23,
   "id": "642c9ff1-f0a3-451c-b02d-a629452d231d",
   "metadata": {},
   "outputs": [],
   "source": [
    "my_tuple = tuple()"
   ]
  },
  {
   "cell_type": "code",
   "execution_count": 24,
   "id": "4e245b3b-81ad-4053-99a5-0c96541f31ec",
   "metadata": {},
   "outputs": [
    {
     "name": "stdout",
     "output_type": "stream",
     "text": [
      "<class 'tuple'>\n"
     ]
    }
   ],
   "source": [
    "print(type(my_tuple))"
   ]
  },
  {
   "cell_type": "code",
   "execution_count": 25,
   "id": "fd2f7556-b4d2-4c58-9134-25b29bf57685",
   "metadata": {},
   "outputs": [],
   "source": [
    "dict = {}"
   ]
  },
  {
   "cell_type": "code",
   "execution_count": 26,
   "id": "26319c5a-a70e-4e53-b658-251c4d17be91",
   "metadata": {},
   "outputs": [],
   "source": [
    "lst = []"
   ]
  },
  {
   "cell_type": "code",
   "execution_count": 27,
   "id": "681a2b01-d800-4da2-b657-1dedd6d55dd3",
   "metadata": {},
   "outputs": [],
   "source": [
    "my_tuple=()"
   ]
  },
  {
   "cell_type": "code",
   "execution_count": 28,
   "id": "c2739459-844a-4707-a4ba-b05966626382",
   "metadata": {},
   "outputs": [],
   "source": [
    "my_tuple = (\"python\",[1,2,3,34],[2,3.4,5])"
   ]
  },
  {
   "cell_type": "code",
   "execution_count": 29,
   "id": "c1543b55-c004-47ee-aec2-e74c7647b4cb",
   "metadata": {},
   "outputs": [
    {
     "name": "stdout",
     "output_type": "stream",
     "text": [
      "('python', [1, 2, 3, 34], [2, 3.4, 5])\n"
     ]
    }
   ],
   "source": [
    "print(my_tuple)"
   ]
  },
  {
   "cell_type": "code",
   "execution_count": 31,
   "id": "7d8ab577-549c-4434-b25e-49b637e0a21e",
   "metadata": {},
   "outputs": [
    {
     "data": {
      "text/plain": [
       "[1, 2, 3, 34]"
      ]
     },
     "execution_count": 31,
     "metadata": {},
     "output_type": "execute_result"
    }
   ],
   "source": [
    "# tuple slicing\n",
    "my_tuple[1]"
   ]
  },
  {
   "cell_type": "code",
   "execution_count": 32,
   "id": "afdefc09-955c-4078-b131-5849b37b6165",
   "metadata": {},
   "outputs": [],
   "source": [
    "a = (1,2,3,4)"
   ]
  },
  {
   "cell_type": "code",
   "execution_count": 33,
   "id": "77311e6b-b8c7-46b9-8726-13d255bc2847",
   "metadata": {},
   "outputs": [
    {
     "data": {
      "text/plain": [
       "3"
      ]
     },
     "execution_count": 33,
     "metadata": {},
     "output_type": "execute_result"
    }
   ],
   "source": [
    "a [2]"
   ]
  },
  {
   "cell_type": "code",
   "execution_count": 35,
   "id": "2bbaaba8-5ad7-4e36-9495-6db041f64677",
   "metadata": {},
   "outputs": [
    {
     "name": "stdout",
     "output_type": "stream",
     "text": [
      "(3, 4)\n"
     ]
    }
   ],
   "source": [
    "print(a[-2:])"
   ]
  },
  {
   "cell_type": "code",
   "execution_count": 36,
   "id": "568d627b-edb5-48cb-b9ff-19bbfff533ff",
   "metadata": {},
   "outputs": [
    {
     "name": "stdout",
     "output_type": "stream",
     "text": [
      "(1, 2, 3)\n"
     ]
    }
   ],
   "source": [
    "print(a[:3])"
   ]
  },
  {
   "cell_type": "code",
   "execution_count": 37,
   "id": "558559b2-923e-4d1f-8354-19832ceaeb6b",
   "metadata": {},
   "outputs": [
    {
     "name": "stdout",
     "output_type": "stream",
     "text": [
      "(1, 2)\n"
     ]
    }
   ],
   "source": [
    "print(a[:2])"
   ]
  },
  {
   "cell_type": "code",
   "execution_count": 38,
   "id": "63760a04-e1ef-405a-8395-0d0133794de6",
   "metadata": {},
   "outputs": [
    {
     "name": "stdout",
     "output_type": "stream",
     "text": [
      "(2, 3)\n"
     ]
    }
   ],
   "source": [
    "print(a[1:3])"
   ]
  },
  {
   "cell_type": "code",
   "execution_count": 39,
   "id": "81249687-db6b-47ed-9e41-ea719eb4d855",
   "metadata": {},
   "outputs": [],
   "source": [
    "unsorted = (23,0,1,22,4)"
   ]
  },
  {
   "cell_type": "code",
   "execution_count": 40,
   "id": "7db01140-1f68-4273-b11f-c1676725a022",
   "metadata": {},
   "outputs": [],
   "source": [
    "sorted_tuple = sorted(unsorted)"
   ]
  },
  {
   "cell_type": "code",
   "execution_count": 41,
   "id": "ed4f0521-4537-4818-9cf1-a31525537d09",
   "metadata": {},
   "outputs": [
    {
     "name": "stdout",
     "output_type": "stream",
     "text": [
      "[0, 1, 4, 22, 23]\n"
     ]
    }
   ],
   "source": [
    "print(sorted_tuple)"
   ]
  },
  {
   "cell_type": "code",
   "execution_count": 42,
   "id": "e12ebc2d-5f62-4231-91bf-2b7a12bc1cb2",
   "metadata": {},
   "outputs": [
    {
     "data": {
      "text/plain": [
       "5"
      ]
     },
     "execution_count": 42,
     "metadata": {},
     "output_type": "execute_result"
    }
   ],
   "source": [
    "len(sorted_tuple)"
   ]
  },
  {
   "cell_type": "code",
   "execution_count": 43,
   "id": "3b885c42-ce24-4aba-9003-1ee60c097a0d",
   "metadata": {},
   "outputs": [],
   "source": [
    "tup = (1,1,'x','a','a',2.3)"
   ]
  },
  {
   "cell_type": "code",
   "execution_count": 44,
   "id": "23b98a47-9d19-4fda-a376-a2d4cbc91542",
   "metadata": {},
   "outputs": [
    {
     "name": "stdout",
     "output_type": "stream",
     "text": [
      "2\n"
     ]
    }
   ],
   "source": [
    "print(tup.count('a'))"
   ]
  },
  {
   "cell_type": "code",
   "execution_count": 45,
   "id": "d3c67c8a-75be-43d0-9439-fb8e0a4227d2",
   "metadata": {},
   "outputs": [
    {
     "name": "stdout",
     "output_type": "stream",
     "text": [
      "0\n"
     ]
    }
   ],
   "source": [
    "print(tup.index(1))"
   ]
  },
  {
   "cell_type": "code",
   "execution_count": 46,
   "id": "f87870ed-97ed-4c74-80d0-75149380a321",
   "metadata": {},
   "outputs": [],
   "source": [
    "## Adding tuples"
   ]
  },
  {
   "cell_type": "code",
   "execution_count": 47,
   "id": "80417b1b-aabe-4cd7-8e4f-06e52e3f8ed0",
   "metadata": {},
   "outputs": [],
   "source": [
    "a = (1,2)\n",
    "b = (3,4)"
   ]
  },
  {
   "cell_type": "code",
   "execution_count": 48,
   "id": "3275db2e-0f8d-486e-81b6-018995c535dc",
   "metadata": {},
   "outputs": [
    {
     "name": "stdout",
     "output_type": "stream",
     "text": [
      "(1, 2, 3, 4)\n"
     ]
    }
   ],
   "source": [
    "c = a+b\n",
    "print(c)"
   ]
  },
  {
   "cell_type": "code",
   "execution_count": 49,
   "id": "5711021e-d729-433b-9770-0a8eb6856c1c",
   "metadata": {},
   "outputs": [
    {
     "name": "stdout",
     "output_type": "stream",
     "text": [
      "C\n",
      "C++\n",
      "Python\n",
      "swift\n"
     ]
    }
   ],
   "source": [
    "programingLanguages = ('C','C++','Python','swift')\n",
    "\n",
    "for prgLang in programingLanguages:\n",
    "    print(prgLang)"
   ]
  },
  {
   "cell_type": "code",
   "execution_count": 50,
   "id": "177c19db-97e6-4f82-b0d1-9dec827681a1",
   "metadata": {},
   "outputs": [
    {
     "name": "stdout",
     "output_type": "stream",
     "text": [
      "True\n"
     ]
    }
   ],
   "source": [
    "print('C' in programingLanguages)"
   ]
  },
  {
   "cell_type": "code",
   "execution_count": 51,
   "id": "fbefe8dd-1398-44c7-a304-e82e159a4cb6",
   "metadata": {},
   "outputs": [
    {
     "name": "stdout",
     "output_type": "stream",
     "text": [
      "False\n"
     ]
    }
   ],
   "source": [
    "print('java' in programingLanguages)"
   ]
  },
  {
   "cell_type": "code",
   "execution_count": 53,
   "id": "f5b5d2b5-16e0-4b25-8bc3-be3a2848fd69",
   "metadata": {},
   "outputs": [
    {
     "ename": "AttributeError",
     "evalue": "'tuple' object has no attribute 'pop'",
     "output_type": "error",
     "traceback": [
      "\u001b[1;31m---------------------------------------------------------------------------\u001b[0m",
      "\u001b[1;31mAttributeError\u001b[0m                            Traceback (most recent call last)",
      "Cell \u001b[1;32mIn[53], line 1\u001b[0m\n\u001b[1;32m----> 1\u001b[0m \u001b[43mprogramingLanguages\u001b[49m\u001b[38;5;241;43m.\u001b[39;49m\u001b[43mpop\u001b[49m(\u001b[38;5;124m'\u001b[39m\u001b[38;5;124mC\u001b[39m\u001b[38;5;124m'\u001b[39m)\n",
      "\u001b[1;31mAttributeError\u001b[0m: 'tuple' object has no attribute 'pop'"
     ]
    }
   ],
   "source": [
    "programingLanguages.pop('C')"
   ]
  },
  {
   "cell_type": "raw",
   "id": "eec514c7-232f-4b07-b982-5fc6c1f7f3d7",
   "metadata": {},
   "source": []
  },
  {
   "cell_type": "code",
   "execution_count": 54,
   "id": "caf30eec-d9c2-4d49-9823-daad48a4e610",
   "metadata": {},
   "outputs": [
    {
     "ename": "AttributeError",
     "evalue": "'tuple' object has no attribute 'remove'",
     "output_type": "error",
     "traceback": [
      "\u001b[1;31m---------------------------------------------------------------------------\u001b[0m",
      "\u001b[1;31mAttributeError\u001b[0m                            Traceback (most recent call last)",
      "Cell \u001b[1;32mIn[54], line 1\u001b[0m\n\u001b[1;32m----> 1\u001b[0m \u001b[43mprogramingLanguages\u001b[49m\u001b[38;5;241;43m.\u001b[39;49m\u001b[43mremove\u001b[49m(\u001b[38;5;124m'\u001b[39m\u001b[38;5;124mC\u001b[39m\u001b[38;5;124m'\u001b[39m)\n",
      "\u001b[1;31mAttributeError\u001b[0m: 'tuple' object has no attribute 'remove'"
     ]
    }
   ],
   "source": [
    "programingLanguages.remove('C')"
   ]
  },
  {
   "cell_type": "code",
   "execution_count": 55,
   "id": "1c7242d4-c6f7-4250-a130-f6003f089212",
   "metadata": {},
   "outputs": [
    {
     "name": "stdout",
     "output_type": "stream",
     "text": [
      "('C', 'C++', 'Python', 'swift')\n"
     ]
    }
   ],
   "source": [
    "print(programingLanguages)"
   ]
  },
  {
   "cell_type": "code",
   "execution_count": 56,
   "id": "ba01b05f-872b-4fe0-8fb4-1cbe7745dd45",
   "metadata": {},
   "outputs": [
    {
     "name": "stdout",
     "output_type": "stream",
     "text": [
      "<generator object <genexpr> at 0x000001B10B990450>\n"
     ]
    }
   ],
   "source": [
    "## delete 'C' from the programingLanguage tuple\n",
    "\n",
    "new_tuple = (prgLang for prgLang in programingLanguages if prgLang != 'C')\n",
    "print(new_tuple)"
   ]
  },
  {
   "cell_type": "code",
   "execution_count": 57,
   "id": "c5cf2a61-901f-433e-8080-0d770ececba5",
   "metadata": {},
   "outputs": [
    {
     "name": "stdout",
     "output_type": "stream",
     "text": [
      "('C++', 'Python', 'swift')\n"
     ]
    }
   ],
   "source": [
    "print(tuple(new_tuple))"
   ]
  },
  {
   "cell_type": "code",
   "execution_count": 58,
   "id": "8bc56dff-23e2-4e49-a56c-01a03015d499",
   "metadata": {},
   "outputs": [
    {
     "name": "stdout",
     "output_type": "stream",
     "text": [
      "('C++', 'Python', 'swift')\n"
     ]
    }
   ],
   "source": [
    "new_tuple = tuple(prgLang for prgLang in programingLanguages if prgLang != 'C')\n",
    "print(new_tuple)"
   ]
  },
  {
   "cell_type": "markdown",
   "id": "221cc7f8-bb73-44d3-b84a-be3dc79737ff",
   "metadata": {},
   "source": [
    "#### Python math module "
   ]
  },
  {
   "cell_type": "code",
   "execution_count": 59,
   "id": "8a42eafc-5acc-41a1-96d0-6c53e689e97d",
   "metadata": {},
   "outputs": [
    {
     "ename": "NameError",
     "evalue": "name 'pi' is not defined",
     "output_type": "error",
     "traceback": [
      "\u001b[1;31m---------------------------------------------------------------------------\u001b[0m",
      "\u001b[1;31mNameError\u001b[0m                                 Traceback (most recent call last)",
      "Cell \u001b[1;32mIn[59], line 1\u001b[0m\n\u001b[1;32m----> 1\u001b[0m \u001b[38;5;28mprint\u001b[39m(\u001b[43mpi\u001b[49m)\n",
      "\u001b[1;31mNameError\u001b[0m: name 'pi' is not defined"
     ]
    }
   ],
   "source": [
    "print(pi)"
   ]
  },
  {
   "cell_type": "code",
   "execution_count": 60,
   "id": "ecedc88a-9598-414a-91e4-5199f999ee1a",
   "metadata": {},
   "outputs": [],
   "source": [
    "# import math module (or math library)"
   ]
  },
  {
   "cell_type": "code",
   "execution_count": 61,
   "id": "0cbe1549-e51b-4ce9-8239-e24be12b7270",
   "metadata": {},
   "outputs": [],
   "source": [
    "import math"
   ]
  },
  {
   "cell_type": "markdown",
   "id": "db2070a7-e576-44cf-86a1-8fd841377dd1",
   "metadata": {},
   "source": [
    "To get the value of $\\pi$"
   ]
  },
  {
   "cell_type": "code",
   "execution_count": 62,
   "id": "b7bd7be7-f101-406c-b1ae-47cc16a11388",
   "metadata": {},
   "outputs": [
    {
     "name": "stdout",
     "output_type": "stream",
     "text": [
      "3.141592653589793\n"
     ]
    }
   ],
   "source": [
    "print(math.pi)"
   ]
  },
  {
   "cell_type": "markdown",
   "id": "5362373a-3d1f-4b63-b6ec-118ec7776e11",
   "metadata": {},
   "source": [
    "To get the Area of a circle $\\pi$$r^2$"
   ]
  },
  {
   "cell_type": "code",
   "execution_count": 63,
   "id": "b2d1e577-f206-46b8-be81-3faad0af6f3c",
   "metadata": {},
   "outputs": [],
   "source": [
    "a = math.pi"
   ]
  },
  {
   "cell_type": "code",
   "execution_count": 64,
   "id": "d198dd1c-8207-4f2e-a67d-e3ed6b0e30e9",
   "metadata": {},
   "outputs": [
    {
     "name": "stdout",
     "output_type": "stream",
     "text": [
      "3.141592653589793\n"
     ]
    }
   ],
   "source": [
    "print(a)"
   ]
  },
  {
   "cell_type": "code",
   "execution_count": 65,
   "id": "f6c1fd56-07f5-4183-b82c-90b009442b93",
   "metadata": {},
   "outputs": [
    {
     "name": "stdin",
     "output_type": "stream",
     "text": [
      "Enter Radius 40\n"
     ]
    },
    {
     "name": "stdout",
     "output_type": "stream",
     "text": [
      "5026.548245743669\n"
     ]
    }
   ],
   "source": [
    "import math\n",
    "r = int(input(\"Enter Radius\"))\n",
    "circleArea = math.pi*r**2\n",
    "print(circleArea)"
   ]
  },
  {
   "cell_type": "code",
   "execution_count": 66,
   "id": "d5d51f96-8155-49d9-9fdd-4add7f9a5302",
   "metadata": {},
   "outputs": [
    {
     "data": {
      "text/plain": [
       "6.283185307179586"
      ]
     },
     "execution_count": 66,
     "metadata": {},
     "output_type": "execute_result"
    }
   ],
   "source": [
    "math.tau"
   ]
  },
  {
   "cell_type": "code",
   "execution_count": 67,
   "id": "7b423dce-5ad8-4549-b780-5c4d950d8ba9",
   "metadata": {},
   "outputs": [
    {
     "data": {
      "text/plain": [
       "2.718281828459045"
      ]
     },
     "execution_count": 67,
     "metadata": {},
     "output_type": "execute_result"
    }
   ],
   "source": [
    "math.e"
   ]
  },
  {
   "cell_type": "code",
   "execution_count": 68,
   "id": "a8d519c0-a698-42dd-b511-446a35d656c2",
   "metadata": {},
   "outputs": [
    {
     "name": "stdout",
     "output_type": "stream",
     "text": [
      "103\n"
     ]
    }
   ],
   "source": [
    "# ceil() function\n",
    "val = 102.2\n",
    "print(math.ceil(val))"
   ]
  },
  {
   "cell_type": "code",
   "execution_count": 69,
   "id": "661bca88-1c33-4f74-82c9-97418c707e06",
   "metadata": {},
   "outputs": [
    {
     "name": "stdout",
     "output_type": "stream",
     "text": [
      "102\n"
     ]
    }
   ],
   "source": [
    "print(math.floor(val))"
   ]
  },
  {
   "cell_type": "code",
   "execution_count": 70,
   "id": "bceff5f8-96a2-4dba-86bb-7ef5da258241",
   "metadata": {},
   "outputs": [
    {
     "name": "stdout",
     "output_type": "stream",
     "text": [
      "7!  ==> 5040\n"
     ]
    }
   ],
   "source": [
    "## Factorial of 7\n",
    "number = 7\n",
    "print(\"{}!  ==> {}\".format(number,math.factorial(number)))"
   ]
  },
  {
   "cell_type": "code",
   "execution_count": 71,
   "id": "effa5d77-01bb-4ea8-9386-5bb878ee0f32",
   "metadata": {},
   "outputs": [
    {
     "name": "stdout",
     "output_type": "stream",
     "text": [
      "3.141592653589793\n"
     ]
    }
   ],
   "source": [
    "val = math.pi\n",
    "print(val)"
   ]
  },
  {
   "cell_type": "code",
   "execution_count": 72,
   "id": "5b764659-583f-491b-ab66-f9d568ec89b3",
   "metadata": {},
   "outputs": [
    {
     "name": "stdout",
     "output_type": "stream",
     "text": [
      "2 decimel ==> 3.14\n"
     ]
    }
   ],
   "source": [
    "print(\"2 decimel ==> %.2f\"%val)"
   ]
  },
  {
   "cell_type": "code",
   "execution_count": 73,
   "id": "385aa4a9-e5e6-4f5f-ae74-8bed7d5ab5fe",
   "metadata": {},
   "outputs": [
    {
     "data": {
      "text/plain": [
       "2.0"
      ]
     },
     "execution_count": 73,
     "metadata": {},
     "output_type": "execute_result"
    }
   ],
   "source": [
    "math.sqrt(4)"
   ]
  },
  {
   "cell_type": "code",
   "execution_count": 74,
   "id": "f037b2c5-b001-4093-9549-cb9b6cac5f04",
   "metadata": {},
   "outputs": [
    {
     "name": "stdout",
     "output_type": "stream",
     "text": [
      "2.0\n"
     ]
    }
   ],
   "source": [
    "# cube root\n",
    "a = 8\n",
    "print(a**(1./3.))"
   ]
  },
  {
   "cell_type": "code",
   "execution_count": 75,
   "id": "c88445ad-feb2-4b93-8fd5-cd18ec2cc29b",
   "metadata": {},
   "outputs": [
    {
     "name": "stdout",
     "output_type": "stream",
     "text": [
      "GCD\n",
      "5\n"
     ]
    }
   ],
   "source": [
    "# GCD \n",
    "import math\n",
    "a = 15\n",
    "b = 5\n",
    "print(\"GCD\")\n",
    "print(math.gcd(a,b))"
   ]
  },
  {
   "cell_type": "code",
   "execution_count": 76,
   "id": "d3bafd32-a7ff-42ae-b931-ec833f5414bf",
   "metadata": {},
   "outputs": [],
   "source": [
    "a = -10\n",
    "abs = math.fabs(a)"
   ]
  },
  {
   "cell_type": "code",
   "execution_count": 77,
   "id": "6725b33e-a1ac-4eb4-8f03-10206daedf31",
   "metadata": {},
   "outputs": [
    {
     "name": "stdout",
     "output_type": "stream",
     "text": [
      "-10\n"
     ]
    }
   ],
   "source": [
    "print(a)"
   ]
  },
  {
   "cell_type": "code",
   "execution_count": 78,
   "id": "e5333da5-27f2-49ea-a06d-59e214ef13c3",
   "metadata": {},
   "outputs": [
    {
     "name": "stdout",
     "output_type": "stream",
     "text": [
      "10.0\n"
     ]
    }
   ],
   "source": [
    "print(abs)"
   ]
  },
  {
   "cell_type": "code",
   "execution_count": 79,
   "id": "ed29099b-e1cf-42d0-bec4-b53bd3444c25",
   "metadata": {},
   "outputs": [
    {
     "name": "stdout",
     "output_type": "stream",
     "text": [
      "4.0\n"
     ]
    }
   ],
   "source": [
    "# log base 2 \n",
    "print(math.log2(16))"
   ]
  },
  {
   "cell_type": "code",
   "execution_count": 80,
   "id": "b917c0bc-9747-4354-83db-e3e3edf6f0c3",
   "metadata": {},
   "outputs": [
    {
     "name": "stdout",
     "output_type": "stream",
     "text": [
      "0.6309297535714574\n"
     ]
    }
   ],
   "source": [
    "# log base 3 with value 2 \n",
    "print(math.log(2,3))"
   ]
  },
  {
   "cell_type": "code",
   "execution_count": 81,
   "id": "87dd3c0c-0780-457a-8ca1-f587e6ad6eda",
   "metadata": {},
   "outputs": [
    {
     "name": "stdout",
     "output_type": "stream",
     "text": [
      "3.0870712059065353\n"
     ]
    }
   ],
   "source": [
    "# log base 10 \n",
    "print(math.log10(1222))"
   ]
  },
  {
   "cell_type": "code",
   "execution_count": 82,
   "id": "bdfa8bf8-6307-4954-bac7-b429b0f35d8b",
   "metadata": {},
   "outputs": [],
   "source": [
    "a = 8/23"
   ]
  },
  {
   "cell_type": "code",
   "execution_count": 83,
   "id": "4965bbf7-9f75-4aea-a424-4079dd808498",
   "metadata": {},
   "outputs": [
    {
     "name": "stdout",
     "output_type": "stream",
     "text": [
      "0.34782608695652173\n"
     ]
    }
   ],
   "source": [
    "print(a)"
   ]
  },
  {
   "cell_type": "code",
   "execution_count": 84,
   "id": "175fcb6d-68a6-415c-b3e1-cb8f7bc8cc9a",
   "metadata": {},
   "outputs": [],
   "source": [
    "import math as m"
   ]
  },
  {
   "cell_type": "code",
   "execution_count": 85,
   "id": "b353a498-2157-463c-acdf-5621f2db9100",
   "metadata": {},
   "outputs": [
    {
     "name": "stdout",
     "output_type": "stream",
     "text": [
      "3.141592653589793\n"
     ]
    }
   ],
   "source": [
    "print(m.pi)"
   ]
  },
  {
   "cell_type": "code",
   "execution_count": 86,
   "id": "d8a8d7e8-e641-42d3-80e4-dbafb5139bf6",
   "metadata": {},
   "outputs": [],
   "source": [
    "from fractions import Fraction"
   ]
  },
  {
   "cell_type": "code",
   "execution_count": 87,
   "id": "ab667b65-630d-4839-b2f5-fedcf951b48d",
   "metadata": {},
   "outputs": [],
   "source": [
    "result = Fraction('8/23')"
   ]
  },
  {
   "cell_type": "code",
   "execution_count": 88,
   "id": "1045d615-0322-4bfa-8dd7-8f772939af6b",
   "metadata": {},
   "outputs": [
    {
     "name": "stdout",
     "output_type": "stream",
     "text": [
      "8/23\n"
     ]
    }
   ],
   "source": [
    "print(result)"
   ]
  },
  {
   "cell_type": "code",
   "execution_count": 89,
   "id": "6d995c97-a98f-4bfe-b30a-101f79360c35",
   "metadata": {},
   "outputs": [
    {
     "name": "stdout",
     "output_type": "stream",
     "text": [
      "<class 'fractions.Fraction'>\n"
     ]
    }
   ],
   "source": [
    "print(type(result))"
   ]
  },
  {
   "cell_type": "code",
   "execution_count": 90,
   "id": "d6bfd83b-c9d7-4148-8a80-a8e47e71e1c7",
   "metadata": {},
   "outputs": [],
   "source": [
    "result = Fraction('8/23') + Fraction('10/12')"
   ]
  },
  {
   "cell_type": "code",
   "execution_count": 91,
   "id": "e8612d63-71e6-498e-80f2-a423eec9e22c",
   "metadata": {},
   "outputs": [
    {
     "name": "stdout",
     "output_type": "stream",
     "text": [
      "163/138\n"
     ]
    }
   ],
   "source": [
    "print(result)"
   ]
  },
  {
   "cell_type": "code",
   "execution_count": 92,
   "id": "8839a09b-3a3b-4555-99dd-dcd58be95b7e",
   "metadata": {},
   "outputs": [
    {
     "name": "stdout",
     "output_type": "stream",
     "text": [
      "121/100\n"
     ]
    }
   ],
   "source": [
    "print(Fraction('1.21'))"
   ]
  },
  {
   "cell_type": "code",
   "execution_count": 93,
   "id": "5b13c3b6-b627-41f9-ab46-8c59bc1aa439",
   "metadata": {},
   "outputs": [],
   "source": [
    "result = Fraction(4/5)"
   ]
  },
  {
   "cell_type": "code",
   "execution_count": 94,
   "id": "fd236147-6d18-49ed-a02a-366544db0079",
   "metadata": {},
   "outputs": [
    {
     "name": "stdout",
     "output_type": "stream",
     "text": [
      "3602879701896397/4503599627370496\n"
     ]
    }
   ],
   "source": [
    "print(result)"
   ]
  },
  {
   "cell_type": "code",
   "execution_count": 95,
   "id": "dae29a29-2119-4d55-8e79-47d64ddf6777",
   "metadata": {},
   "outputs": [
    {
     "name": "stdout",
     "output_type": "stream",
     "text": [
      "<class 'fractions.Fraction'>\n"
     ]
    }
   ],
   "source": [
    "print(type(result))"
   ]
  },
  {
   "cell_type": "markdown",
   "id": "163698c9-ac87-43ee-baa8-bb2ee9028343",
   "metadata": {},
   "source": [
    "#### join "
   ]
  },
  {
   "cell_type": "code",
   "execution_count": 96,
   "id": "c52833cc-e306-4258-9ec0-665a28105ab6",
   "metadata": {},
   "outputs": [
    {
     "name": "stdout",
     "output_type": "stream",
     "text": [
      "('Dominar', 'X-pulse', 'Himalayan')\n"
     ]
    }
   ],
   "source": [
    "tuple_ex = (\"Dominar\",\"X-pulse\",\"Himalayan\")\n",
    "print(tuple_ex)"
   ]
  },
  {
   "cell_type": "code",
   "execution_count": 97,
   "id": "4ad0c694-ac28-48fa-a985-fb2a442d1c05",
   "metadata": {},
   "outputs": [],
   "source": [
    "### Dominar-X-pulse-Himalayan\n",
    "op = \"-\".join(tuple_ex)"
   ]
  },
  {
   "cell_type": "code",
   "execution_count": 98,
   "id": "83d250f0-abbc-489f-9eeb-1e348468eb53",
   "metadata": {},
   "outputs": [
    {
     "name": "stdout",
     "output_type": "stream",
     "text": [
      "Dominar-X-pulse-Himalayan\n"
     ]
    }
   ],
   "source": [
    "print(op)"
   ]
  },
  {
   "cell_type": "code",
   "execution_count": 99,
   "id": "0a8ffe20-6f33-4431-a6de-6372f4a2aebf",
   "metadata": {},
   "outputs": [
    {
     "name": "stdout",
     "output_type": "stream",
     "text": [
      "{'Dominar': 1, 'Himalayn': 2}\n"
     ]
    }
   ],
   "source": [
    "dict_example = {\"Dominar\":1,\"Himalayn\":2}\n",
    "print(dict_example)"
   ]
  },
  {
   "cell_type": "code",
   "execution_count": 100,
   "id": "4fb896ae-ee20-45e7-8313-3a2aa84326a3",
   "metadata": {},
   "outputs": [],
   "source": [
    "#Dominar->1->Himalayn->2\n",
    "op = \"->\".join(dict_example)"
   ]
  },
  {
   "cell_type": "code",
   "execution_count": 101,
   "id": "285bc65a-02a6-4178-b834-2ab3da3f3372",
   "metadata": {},
   "outputs": [
    {
     "name": "stdout",
     "output_type": "stream",
     "text": [
      "Dominar->Himalayn\n"
     ]
    }
   ],
   "source": [
    "print(op)"
   ]
  },
  {
   "cell_type": "code",
   "execution_count": 102,
   "id": "f3067aee-6586-4187-908f-8e9a667da48b",
   "metadata": {},
   "outputs": [
    {
     "ename": "AttributeError",
     "evalue": "'str' object has no attribute 'values'",
     "output_type": "error",
     "traceback": [
      "\u001b[1;31m---------------------------------------------------------------------------\u001b[0m",
      "\u001b[1;31mAttributeError\u001b[0m                            Traceback (most recent call last)",
      "Cell \u001b[1;32mIn[102], line 1\u001b[0m\n\u001b[1;32m----> 1\u001b[0m \u001b[38;5;28mprint\u001b[39m(\u001b[43mop\u001b[49m\u001b[38;5;241;43m.\u001b[39;49m\u001b[43mvalues\u001b[49m())\n",
      "\u001b[1;31mAttributeError\u001b[0m: 'str' object has no attribute 'values'"
     ]
    }
   ],
   "source": [
    "print(op.values())"
   ]
  },
  {
   "cell_type": "code",
   "execution_count": 103,
   "id": "ae7bc870-d248-4c07-82ed-5d31336e6635",
   "metadata": {},
   "outputs": [
    {
     "ename": "AttributeError",
     "evalue": "'str' object has no attribute 'keys'",
     "output_type": "error",
     "traceback": [
      "\u001b[1;31m---------------------------------------------------------------------------\u001b[0m",
      "\u001b[1;31mAttributeError\u001b[0m                            Traceback (most recent call last)",
      "Cell \u001b[1;32mIn[103], line 1\u001b[0m\n\u001b[1;32m----> 1\u001b[0m \u001b[38;5;28mprint\u001b[39m(\u001b[43mop\u001b[49m\u001b[38;5;241;43m.\u001b[39;49m\u001b[43mkeys\u001b[49m())\n",
      "\u001b[1;31mAttributeError\u001b[0m: 'str' object has no attribute 'keys'"
     ]
    }
   ],
   "source": [
    "print(op.keys())"
   ]
  },
  {
   "cell_type": "code",
   "execution_count": 104,
   "id": "59d85ec2-59dd-4c09-819f-f04a407deb13",
   "metadata": {},
   "outputs": [
    {
     "name": "stdout",
     "output_type": "stream",
     "text": [
      "['a', 'b', 'c', 'd']\n"
     ]
    }
   ],
   "source": [
    "lst = [\"a\",\"b\",\"c\",\"d\"]\n",
    "print(lst)"
   ]
  },
  {
   "cell_type": "code",
   "execution_count": 105,
   "id": "055d25c7-ba47-45bb-a3e1-d0b50ba793d1",
   "metadata": {},
   "outputs": [
    {
     "name": "stdout",
     "output_type": "stream",
     "text": [
      "a-b-c-d\n"
     ]
    }
   ],
   "source": [
    "str = \"-\"\n",
    "print(str.join(lst))"
   ]
  },
  {
   "cell_type": "code",
   "execution_count": null,
   "id": "8c8b0c5d-b119-4c68-aeba-8524d974bedf",
   "metadata": {},
   "outputs": [],
   "source": []
  }
 ],
 "metadata": {
  "kernelspec": {
   "display_name": "Python 3 (ipykernel)",
   "language": "python",
   "name": "python3"
  },
  "language_info": {
   "codemirror_mode": {
    "name": "ipython",
    "version": 3
   },
   "file_extension": ".py",
   "mimetype": "text/x-python",
   "name": "python",
   "nbconvert_exporter": "python",
   "pygments_lexer": "ipython3",
   "version": "3.11.4"
  }
 },
 "nbformat": 4,
 "nbformat_minor": 5
}
