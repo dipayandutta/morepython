{
 "cells": [
  {
   "cell_type": "markdown",
   "id": "22e3ddb6-daa0-4339-8a0f-ef341c408995",
   "metadata": {},
   "source": [
    "## Swap Values"
   ]
  },
  {
   "cell_type": "code",
   "execution_count": 2,
   "id": "7e2b943b-c91a-4b90-93f5-dd0bba5e2a24",
   "metadata": {},
   "outputs": [
    {
     "name": "stdout",
     "output_type": "stream",
     "text": [
      "10\n",
      "20\n",
      "20\n",
      "10\n"
     ]
    }
   ],
   "source": [
    "# Swap the values of two variables using temporary variables\n",
    "a = 10\n",
    "b = 20\n",
    "# values before the swap operation\n",
    "print(a)\n",
    "print(b)\n",
    "# performing swap operation\n",
    "a,b = b,a\n",
    "# values after the swap operation\n",
    "print(a)\n",
    "print(b)"
   ]
  },
  {
   "cell_type": "markdown",
   "id": "0af7b154-7a3a-4641-9163-00c2fd556b5a",
   "metadata": {},
   "source": [
    "#### List Comprehensions\n",
    "use list comprehension for readable codes"
   ]
  },
  {
   "cell_type": "code",
   "execution_count": 4,
   "id": "01055b58-903e-49c8-90e2-86341e6782a8",
   "metadata": {},
   "outputs": [
    {
     "name": "stdout",
     "output_type": "stream",
     "text": [
      "[0, 1, 4, 9, 16, 25, 36, 49, 64, 81, 100, 121, 144, 169, 196, 225, 256, 289, 324, 361]\n"
     ]
    }
   ],
   "source": [
    "squared_numbers = [x**2 for x in range(0,20)]\n",
    "print(squared_numbers)"
   ]
  },
  {
   "cell_type": "markdown",
   "id": "bcd5785a-4374-44e0-aabd-9ae36ef1a43d",
   "metadata": {},
   "source": [
    "### Multiple assignment and unpacking of numbers\n"
   ]
  },
  {
   "cell_type": "code",
   "execution_count": 5,
   "id": "14aa7e8c-4097-4a3d-9700-4f7cd8866eb2",
   "metadata": {},
   "outputs": [
    {
     "name": "stdout",
     "output_type": "stream",
     "text": [
      "1\n",
      "2\n",
      "3\n",
      "[1, 2, 3]\n",
      "1\n",
      "2\n",
      "3\n"
     ]
    }
   ],
   "source": [
    "x,y,z = 1,2,3\n",
    "print(x)\n",
    "print(y)\n",
    "print(z)\n",
    "\n",
    "# unpacking numbers from a list into seprate variables\n",
    "numbers = list(range(1,4))\n",
    "# created list\n",
    "print(numbers)\n",
    "a,b,c = numbers\n",
    "# after unpacking\n",
    "print(a)\n",
    "print(b)\n",
    "print(c)"
   ]
  },
  {
   "cell_type": "code",
   "execution_count": 1,
   "id": "76cdefd1-bbf7-4460-b7c1-d2c7cf6b8d3e",
   "metadata": {},
   "outputs": [
    {
     "name": "stdout",
     "output_type": "stream",
     "text": [
      "defaultdict(<class 'int'>, {})\n"
     ]
    }
   ],
   "source": [
    "# Default Dictonary\n",
    "from collections import defaultdict\n",
    "d = defaultdict(int)\n",
    "print(d)"
   ]
  },
  {
   "cell_type": "code",
   "execution_count": 2,
   "id": "a0c16800-66e4-443e-acc7-a446254ad296",
   "metadata": {},
   "outputs": [
    {
     "name": "stdout",
     "output_type": "stream",
     "text": [
      "<zip object at 0x000001C64F9C3A00>\n"
     ]
    }
   ],
   "source": [
    "### zip function\n",
    "subjects = ['math','science','english']\n",
    "marks = [40,50,60]\n",
    "result = zip(subjects,marks)\n",
    "print(result)"
   ]
  },
  {
   "cell_type": "code",
   "execution_count": 3,
   "id": "a514e171-8086-44c2-93ed-bbe73b5dff17",
   "metadata": {},
   "outputs": [
    {
     "name": "stdout",
     "output_type": "stream",
     "text": [
      "{('science', 50), ('math', 40), ('english', 60)}\n"
     ]
    }
   ],
   "source": [
    "print(set(result))"
   ]
  },
  {
   "cell_type": "code",
   "execution_count": 8,
   "id": "32f18bfb-931a-45c8-8a0a-8b965c0b49a4",
   "metadata": {},
   "outputs": [
    {
     "name": "stdout",
     "output_type": "stream",
     "text": [
      "[]\n"
     ]
    }
   ],
   "source": [
    "print(list(result))"
   ]
  },
  {
   "cell_type": "code",
   "execution_count": 9,
   "id": "04bf969d-0490-4d91-82de-3966fec43d53",
   "metadata": {},
   "outputs": [
    {
     "name": "stdout",
     "output_type": "stream",
     "text": [
      "Index: 0,fruits--> apple\n",
      "Index: 1,fruits--> banana\n",
      "Index: 2,fruits--> cherry\n"
     ]
    }
   ],
   "source": [
    "### Enumerate\n",
    "fruits = [\"apple\",\"banana\",\"cherry\"]\n",
    "for index,fruit in enumerate(fruits):\n",
    "    print(f\"Index: {index},fruits--> {fruit}\")"
   ]
  },
  {
   "cell_type": "code",
   "execution_count": 10,
   "id": "23f94fc3-c4b9-4ee5-a715-6cdde176aae1",
   "metadata": {},
   "outputs": [
    {
     "name": "stdout",
     "output_type": "stream",
     "text": [
      "['apple', 'banana', 'cherry']\n"
     ]
    }
   ],
   "source": [
    "print(fruits)"
   ]
  },
  {
   "cell_type": "code",
   "execution_count": 11,
   "id": "83a7e2a8-69ee-49a4-baa9-183e0e88ef3a",
   "metadata": {},
   "outputs": [
    {
     "name": "stdout",
     "output_type": "stream",
     "text": [
      "apple\n",
      "banana\n",
      "cherry\n"
     ]
    }
   ],
   "source": [
    "for fruit in fruits:\n",
    "    print(fruit)"
   ]
  },
  {
   "cell_type": "markdown",
   "id": "945089c5-2bb0-4886-85e0-dbc07cd74d7f",
   "metadata": {},
   "source": [
    "##### Any and all"
   ]
  },
  {
   "cell_type": "code",
   "execution_count": 12,
   "id": "7ee3d5cc-94f9-475b-84f5-7529070fe3ec",
   "metadata": {},
   "outputs": [
    {
     "name": "stdout",
     "output_type": "stream",
     "text": [
      "[0, 1, 2, 3, 4, 5, 6, 7, 8, 9]\n"
     ]
    }
   ],
   "source": [
    "numbers = [x for x in range(10)]\n",
    "print(numbers)"
   ]
  },
  {
   "cell_type": "code",
   "execution_count": 14,
   "id": "30106b8d-15a8-4ac3-beb4-081a7a3ef2e0",
   "metadata": {},
   "outputs": [
    {
     "name": "stdout",
     "output_type": "stream",
     "text": [
      "True\n",
      "All even numbers are False\n"
     ]
    }
   ],
   "source": [
    "any_even = any(x%2 ==0 for x in numbers)\n",
    "all_even = all(x%2 == 0 for x in numbers)\n",
    "print(any_even)\n",
    "print(f'All even numbers are {all_even}')"
   ]
  },
  {
   "cell_type": "code",
   "execution_count": 15,
   "id": "ac05cf03-51ed-4e30-b860-bf38d84cd875",
   "metadata": {},
   "outputs": [
    {
     "name": "stdout",
     "output_type": "stream",
     "text": [
      "<function <lambda> at 0x000001C64F323A60>\n"
     ]
    }
   ],
   "source": [
    "### One Liner function\n",
    "x = 4\n",
    "square = lambda x: x**2\n",
    "print(square)"
   ]
  },
  {
   "cell_type": "code",
   "execution_count": 17,
   "id": "5148598b-e21a-4f1e-8f35-77ddb7f4c9ca",
   "metadata": {},
   "outputs": [
    {
     "name": "stdout",
     "output_type": "stream",
     "text": [
      "16\n"
     ]
    }
   ],
   "source": [
    "print(square(4))"
   ]
  },
  {
   "cell_type": "code",
   "execution_count": 25,
   "id": "8b695b08-b0ae-4edf-a338-9c58c4820990",
   "metadata": {},
   "outputs": [
    {
     "name": "stdout",
     "output_type": "stream",
     "text": [
      "11\n"
     ]
    }
   ],
   "source": [
    "def add(a,b):\n",
    "    return lambda c: a+b\n",
    "\n",
    "result = add(5,6)\n",
    "print(result(0))"
   ]
  },
  {
   "cell_type": "code",
   "execution_count": 26,
   "id": "f0e97006-cdea-4c79-af73-15e44e6191c9",
   "metadata": {},
   "outputs": [],
   "source": [
    "### filter and map function"
   ]
  },
  {
   "cell_type": "code",
   "execution_count": 27,
   "id": "814967b7-be12-4870-81d6-c872e17d8357",
   "metadata": {},
   "outputs": [
    {
     "name": "stdout",
     "output_type": "stream",
     "text": [
      "[2, 4]\n"
     ]
    }
   ],
   "source": [
    "numbers = [x for x in range(1,6)]\n",
    "evens = list(filter(lambda x: x%2==0,numbers))\n",
    "print(evens)"
   ]
  },
  {
   "cell_type": "code",
   "execution_count": 28,
   "id": "8094cddd-74a0-4808-b0d1-aa73620df843",
   "metadata": {},
   "outputs": [
    {
     "name": "stdout",
     "output_type": "stream",
     "text": [
      "{1: 1, 2: 4, 3: 9, 4: 16, 5: 25, 6: 36, 7: 49, 8: 64, 9: 81, 10: 100}\n"
     ]
    }
   ],
   "source": [
    "### Dictonary comprehension\n",
    "squared_dict = {x:x**2 for x in range(1,11)}\n",
    "print(squared_dict)"
   ]
  },
  {
   "cell_type": "code",
   "execution_count": 31,
   "id": "aa8c8f5b-682f-42cc-a3c7-ec638022dfe0",
   "metadata": {},
   "outputs": [
    {
     "name": "stdout",
     "output_type": "stream",
     "text": [
      "65\n",
      "55\n"
     ]
    }
   ],
   "source": [
    "### sum with starting value\n",
    "numbers = [x for x in range(1,11)]\n",
    "sum_with_number = sum(numbers,10)\n",
    "print(sum_with_number)\n",
    "sum_of_all_elements_in_the_list = sum(numbers)\n",
    "print(sum_of_all_elements_in_the_list)"
   ]
  },
  {
   "cell_type": "markdown",
   "id": "d3c70d0e-5cfa-4ce4-8abe-367410615483",
   "metadata": {},
   "source": [
    "#### collections.defaultdict with List"
   ]
  },
  {
   "cell_type": "code",
   "execution_count": 32,
   "id": "e9285e23-784f-4ae2-b38c-ddbfe2eb5c42",
   "metadata": {},
   "outputs": [
    {
     "name": "stdout",
     "output_type": "stream",
     "text": [
      "defaultdict(<class 'list'>, {'red': ['apple', 'cherry'], 'yellow': ['banana', 'lime'], 'orange': ['orange']})\n"
     ]
    }
   ],
   "source": [
    "from collections import defaultdict\n",
    "colors = [('apple','red'),('banana','yellow'),('cherry','red'),('orange','orange'),('lime','yellow')]\n",
    "color_dict = defaultdict(list)\n",
    "\n",
    "for fruit,color in colors:\n",
    "    color_dict[color].append(fruit)\n",
    "\n",
    "print(color_dict)"
   ]
  },
  {
   "cell_type": "code",
   "execution_count": 34,
   "id": "aa8f77e6-4907-4fe6-9c84-c85cf32d7a06",
   "metadata": {},
   "outputs": [
    {
     "name": "stdout",
     "output_type": "stream",
     "text": [
      "First Message!\n",
      "Hello\n",
      "World!\n",
      "Second Message\n"
     ]
    }
   ],
   "source": [
    "### Defaultdict\n",
    "\n",
    "def my_decorator(func):\n",
    "    def wrappers(*args,**kwargs):\n",
    "        print('First Message!')\n",
    "        result = func(*args,**kwargs)\n",
    "        print('Second Message')\n",
    "        return result\n",
    "    return wrappers\n",
    "\n",
    "@my_decorator\n",
    "def say_hello():\n",
    "    print('Hello')\n",
    "    print('World!')\n",
    "\n",
    "say_hello()"
   ]
  },
  {
   "cell_type": "markdown",
   "id": "dcb40ff0-e76a-4323-8fb7-c8d13945a309",
   "metadata": {},
   "source": [
    "### Crate a function with fixed argument"
   ]
  },
  {
   "cell_type": "code",
   "execution_count": 35,
   "id": "230ea8fd-e422-4027-9ad1-330d228ad805",
   "metadata": {},
   "outputs": [
    {
     "name": "stdout",
     "output_type": "stream",
     "text": [
      "functools.partial(<function power at 0x000001C64F316340>, exponent=2)\n",
      "functools.partial(<function power at 0x000001C64F316340>, exponent=5)\n"
     ]
    }
   ],
   "source": [
    "import functools\n",
    "\n",
    "def power(base,exponent):\n",
    "    return base ** exponent\n",
    "square = functools.partial(power,exponent=2)\n",
    "cube   = functools.partial(power,exponent=3)\n",
    "print(square)\n",
    "print(cube)"
   ]
  },
  {
   "cell_type": "code",
   "execution_count": 38,
   "id": "6dbbee8d-10b8-45da-86c7-09e25526c88e",
   "metadata": {},
   "outputs": [
    {
     "name": "stdout",
     "output_type": "stream",
     "text": [
      "25\n",
      "3125\n"
     ]
    }
   ],
   "source": [
    "print(square(5))\n",
    "print(cube(5))"
   ]
  },
  {
   "cell_type": "code",
   "execution_count": 41,
   "id": "fc924ce4-4eec-436a-ab9a-9c35e2ce5e93",
   "metadata": {},
   "outputs": [
    {
     "name": "stdout",
     "output_type": "stream",
     "text": [
      "20\n",
      "{'x': 20}\n",
      "{'In': ['',\n",
      "        '# Default Dictonary\\n'\n",
      "        'from collections import defaultdict\\n'\n",
      "        'd = defaultdict(int)\\n'\n",
      "        'print(d)',\n",
      "        '### zip function\\n'\n",
      "        \"subjects = ['math','science','english']\\n\"\n",
      "        'marks = [40,50,60]\\n'\n",
      "        'result = zip(subjects,marks)\\n'\n",
      "        'print(result)',\n",
      "        'print(set(result))',\n",
      "        'for data in zip:\\n    print(data)',\n",
      "        'for data in dict(zip):\\n    print(data)',\n",
      "        'for data in set(zip):\\n    print(data)',\n",
      "        'for data in list(zip):\\n    print(data)',\n",
      "        'print(list(result))',\n",
      "        '### Enumerate\\n'\n",
      "        'fruits = [\"apple\",\"banana\",\"cherry\"]\\n'\n",
      "        'for index,fruit in enumerate(fruits):\\n'\n",
      "        '    print(f\"Index: {index},fruits--> {fruit}\")',\n",
      "        'print(fruits)',\n",
      "        'for fruit in fruits:\\n    print(fruit)',\n",
      "        'numbers = [x for x in range(10)]\\nprint(numbers)',\n",
      "        'any_even = any(x%2 ==0 for x in number)\\n'\n",
      "        'all_even = all(x%2 == 0 for x in numbers)\\n'\n",
      "        'print(any_even)\\n'\n",
      "        \"print(f'All even numbers are {all_even}')\",\n",
      "        'any_even = any(x%2 ==0 for x in numbers)\\n'\n",
      "        'all_even = all(x%2 == 0 for x in numbers)\\n'\n",
      "        'print(any_even)\\n'\n",
      "        \"print(f'All even numbers are {all_even}')\",\n",
      "        '### One Liner function\\nx = 4\\nsquare = lambda x: x**2\\nprint(square)',\n",
      "        'print(x)',\n",
      "        'print(square(4))',\n",
      "        'def add(a,b):\\n    return lambda c: a+b\\n\\nprint(add(5))',\n",
      "        'def add(a,b):\\n    return lambda c: a+b\\n\\nprint(add(5,6))',\n",
      "        'def add(a,b):\\n'\n",
      "        '    return lambda c: a+b\\n'\n",
      "        '\\n'\n",
      "        'result = add(5,6)\\n'\n",
      "        'print(result)',\n",
      "        'def add(a,b):\\n'\n",
      "        '    return lambda c: a+b\\n'\n",
      "        '\\n'\n",
      "        'result = add(5,6)\\n'\n",
      "        'print(result(10,10))',\n",
      "        'def add(a,b):\\n'\n",
      "        '    return lambda c: a+b\\n'\n",
      "        '\\n'\n",
      "        'result = add(5,6)\\n'\n",
      "        'print(result(10))',\n",
      "        'def add(a,b):\\n'\n",
      "        '    return lambda c: a+b\\n'\n",
      "        '\\n'\n",
      "        'result = add(5,6)\\n'\n",
      "        'print(result(0))',\n",
      "        'def add(a,b):\\n'\n",
      "        '    return lambda c: a+b\\n'\n",
      "        '\\n'\n",
      "        'result = add(5,6)\\n'\n",
      "        'print(result())',\n",
      "        'def add(a,b):\\n'\n",
      "        '    return lambda c: a+b\\n'\n",
      "        '\\n'\n",
      "        'result = add(5,6)\\n'\n",
      "        'print(result(0))',\n",
      "        '### filter and map function',\n",
      "        'numbers = [x for x in range(1,6)]\\n'\n",
      "        'evens = list(filter(lambda x: x%2==0,numbers))\\n'\n",
      "        'print(evens)',\n",
      "        '### Dictonary comprehension\\n'\n",
      "        'squared_dict = {x:x**2 for x in range(1,11)}\\n'\n",
      "        'print(squared_dict)',\n",
      "        '### sum with starting value\\n'\n",
      "        'numbers = [x for x in range(1,11)]\\n'\n",
      "        'sum_with_number = sum(10,numbers)\\n'\n",
      "        'print(sum_with_number)\\n'\n",
      "        'sum_of_all_elements_in_the_list = sum(numbers)\\n'\n",
      "        'print(sum_of_all_elements_in_the_list)',\n",
      "        '### sum with starting value\\n'\n",
      "        'numbers = [1,2,3]\\n'\n",
      "        'sum_with_number = sum(10,numbers)\\n'\n",
      "        'print(sum_with_number)\\n'\n",
      "        'sum_of_all_elements_in_the_list = sum(numbers)\\n'\n",
      "        'print(sum_of_all_elements_in_the_list)',\n",
      "        '### sum with starting value\\n'\n",
      "        'numbers = [x for x in range(1,11)]\\n'\n",
      "        'sum_with_number = sum(numbers,10)\\n'\n",
      "        'print(sum_with_number)\\n'\n",
      "        'sum_of_all_elements_in_the_list = sum(numbers)\\n'\n",
      "        'print(sum_of_all_elements_in_the_list)',\n",
      "        'from collections import defaultdict\\n'\n",
      "        'colors = '\n",
      "        \"[('apple','red'),('banana','yellow'),('cherry','red'),('orange','orange'),('lime','yellow')]\\n\"\n",
      "        'color_dict = defaultdict(list)\\n'\n",
      "        '\\n'\n",
      "        'for fruit,color in colors:\\n'\n",
      "        '    color_dict[color].append(fruit)\\n'\n",
      "        '\\n'\n",
      "        'print(color_dict)',\n",
      "        '### Defaultdict\\n'\n",
      "        '\\n'\n",
      "        'def my_decorator(func):\\n'\n",
      "        '    def wrappers(*args,**kwargs):\\n'\n",
      "        \"        print('First Message!')\\n\"\n",
      "        '        result = func(*args,**kwargs)\\n'\n",
      "        \"        print('Second Message')\\n\"\n",
      "        '        return result\\n'\n",
      "        '    return wrappers\\n'\n",
      "        '\\n'\n",
      "        '@my_decorator\\n'\n",
      "        'def say_hello():\\n'\n",
      "        \"    print('Hello')\\n\"\n",
      "        '\\n'\n",
      "        'say_hello()',\n",
      "        '### Defaultdict\\n'\n",
      "        '\\n'\n",
      "        'def my_decorator(func):\\n'\n",
      "        '    def wrappers(*args,**kwargs):\\n'\n",
      "        \"        print('First Message!')\\n\"\n",
      "        '        result = func(*args,**kwargs)\\n'\n",
      "        \"        print('Second Message')\\n\"\n",
      "        '        return result\\n'\n",
      "        '    return wrappers\\n'\n",
      "        '\\n'\n",
      "        '@my_decorator\\n'\n",
      "        'def say_hello():\\n'\n",
      "        \"    print('Hello')\\n\"\n",
      "        \"    print('World!')\\n\"\n",
      "        '\\n'\n",
      "        'say_hello()',\n",
      "        'import functools\\n'\n",
      "        '\\n'\n",
      "        'def power(base,exponent):\\n'\n",
      "        '    return base ** exponent\\n'\n",
      "        'square = functools.partial(power,exponent=2)\\n'\n",
      "        'cube   = functools.partial(power,exponent=5)\\n'\n",
      "        'print(square)\\n'\n",
      "        'print(cube)',\n",
      "        'print(square(4))\\nprint(cube(4))',\n",
      "        'print(square(4))\\nprint(cube(4))',\n",
      "        'print(square(5))\\nprint(cube(5))',\n",
      "        '### access global functions\\n'\n",
      "        'x = 10\\n'\n",
      "        'def function():\\n'\n",
      "        '    x = 20\\n'\n",
      "        '    print(x)\\n'\n",
      "        '    print(locals())\\n'\n",
      "        '    print(globals())\\n'\n",
      "        \"    print(globals()['x'])\\n\"\n",
      "        '\\n'\n",
      "        '\\n'\n",
      "        \"if __name__ == '__main__':\\n\"\n",
      "        '    function()',\n",
      "        '### access global functions\\n'\n",
      "        'from prettyprint import pprint\\n'\n",
      "        'x = 10\\n'\n",
      "        'def function():\\n'\n",
      "        '    x = 20\\n'\n",
      "        '    print(x)\\n'\n",
      "        '    print(locals())\\n'\n",
      "        '    pprint(globals())\\n'\n",
      "        \"    print(globals()['x'])\\n\"\n",
      "        '\\n'\n",
      "        '\\n'\n",
      "        \"if __name__ == '__main__':\\n\"\n",
      "        '    function()',\n",
      "        '### access global functions\\n'\n",
      "        'import pprint\\n'\n",
      "        'x = 10\\n'\n",
      "        'def function():\\n'\n",
      "        '    x = 20\\n'\n",
      "        '    print(x)\\n'\n",
      "        '    print(locals())\\n'\n",
      "        '    pprint.pprint(globals())\\n'\n",
      "        \"    print(globals()['x'])\\n\"\n",
      "        '\\n'\n",
      "        '\\n'\n",
      "        \"if __name__ == '__main__':\\n\"\n",
      "        '    function()'],\n",
      " 'Out': {},\n",
      " '_': '',\n",
      " '__': '',\n",
      " '___': '',\n",
      " '__builtin__': <module 'builtins' (built-in)>,\n",
      " '__builtins__': <module 'builtins' (built-in)>,\n",
      " '__doc__': 'Automatically created module for IPython interactive environment',\n",
      " '__loader__': None,\n",
      " '__name__': '__main__',\n",
      " '__package__': None,\n",
      " '__session__': 'D:\\\\WORK\\\\python\\\\notes\\\\Python_Important_Notes.ipynb',\n",
      " '__spec__': None,\n",
      " '_dh': [WindowsPath('D:/WORK/python/notes')],\n",
      " '_i': '### access global functions\\n'\n",
      "       'from prettyprint import pprint\\n'\n",
      "       'x = 10\\n'\n",
      "       'def function():\\n'\n",
      "       '    x = 20\\n'\n",
      "       '    print(x)\\n'\n",
      "       '    print(locals())\\n'\n",
      "       '    pprint(globals())\\n'\n",
      "       \"    print(globals()['x'])\\n\"\n",
      "       '\\n'\n",
      "       '\\n'\n",
      "       \"if __name__ == '__main__':\\n\"\n",
      "       '    function()',\n",
      " '_i1': '# Default Dictonary\\n'\n",
      "        'from collections import defaultdict\\n'\n",
      "        'd = defaultdict(int)\\n'\n",
      "        'print(d)',\n",
      " '_i10': 'print(fruits)',\n",
      " '_i11': 'for fruit in fruits:\\n    print(fruit)',\n",
      " '_i12': 'numbers = [x for x in range(10)]\\nprint(numbers)',\n",
      " '_i13': 'any_even = any(x%2 ==0 for x in number)\\n'\n",
      "         'all_even = all(x%2 == 0 for x in numbers)\\n'\n",
      "         'print(any_even)\\n'\n",
      "         \"print(f'All even numbers are {all_even}')\",\n",
      " '_i14': 'any_even = any(x%2 ==0 for x in numbers)\\n'\n",
      "         'all_even = all(x%2 == 0 for x in numbers)\\n'\n",
      "         'print(any_even)\\n'\n",
      "         \"print(f'All even numbers are {all_even}')\",\n",
      " '_i15': '### One Liner function\\n'\n",
      "         'x = 4\\n'\n",
      "         'square = lambda x: x**2\\n'\n",
      "         'print(square)',\n",
      " '_i16': 'print(x)',\n",
      " '_i17': 'print(square(4))',\n",
      " '_i18': 'def add(a,b):\\n    return lambda c: a+b\\n\\nprint(add(5))',\n",
      " '_i19': 'def add(a,b):\\n    return lambda c: a+b\\n\\nprint(add(5,6))',\n",
      " '_i2': '### zip function\\n'\n",
      "        \"subjects = ['math','science','english']\\n\"\n",
      "        'marks = [40,50,60]\\n'\n",
      "        'result = zip(subjects,marks)\\n'\n",
      "        'print(result)',\n",
      " '_i20': 'def add(a,b):\\n'\n",
      "         '    return lambda c: a+b\\n'\n",
      "         '\\n'\n",
      "         'result = add(5,6)\\n'\n",
      "         'print(result)',\n",
      " '_i21': 'def add(a,b):\\n'\n",
      "         '    return lambda c: a+b\\n'\n",
      "         '\\n'\n",
      "         'result = add(5,6)\\n'\n",
      "         'print(result(10,10))',\n",
      " '_i22': 'def add(a,b):\\n'\n",
      "         '    return lambda c: a+b\\n'\n",
      "         '\\n'\n",
      "         'result = add(5,6)\\n'\n",
      "         'print(result(10))',\n",
      " '_i23': 'def add(a,b):\\n'\n",
      "         '    return lambda c: a+b\\n'\n",
      "         '\\n'\n",
      "         'result = add(5,6)\\n'\n",
      "         'print(result(0))',\n",
      " '_i24': 'def add(a,b):\\n'\n",
      "         '    return lambda c: a+b\\n'\n",
      "         '\\n'\n",
      "         'result = add(5,6)\\n'\n",
      "         'print(result())',\n",
      " '_i25': 'def add(a,b):\\n'\n",
      "         '    return lambda c: a+b\\n'\n",
      "         '\\n'\n",
      "         'result = add(5,6)\\n'\n",
      "         'print(result(0))',\n",
      " '_i26': '### filter and map function',\n",
      " '_i27': 'numbers = [x for x in range(1,6)]\\n'\n",
      "         'evens = list(filter(lambda x: x%2==0,numbers))\\n'\n",
      "         'print(evens)',\n",
      " '_i28': '### Dictonary comprehension\\n'\n",
      "         'squared_dict = {x:x**2 for x in range(1,11)}\\n'\n",
      "         'print(squared_dict)',\n",
      " '_i29': '### sum with starting value\\n'\n",
      "         'numbers = [x for x in range(1,11)]\\n'\n",
      "         'sum_with_number = sum(10,numbers)\\n'\n",
      "         'print(sum_with_number)\\n'\n",
      "         'sum_of_all_elements_in_the_list = sum(numbers)\\n'\n",
      "         'print(sum_of_all_elements_in_the_list)',\n",
      " '_i3': 'print(set(result))',\n",
      " '_i30': '### sum with starting value\\n'\n",
      "         'numbers = [1,2,3]\\n'\n",
      "         'sum_with_number = sum(10,numbers)\\n'\n",
      "         'print(sum_with_number)\\n'\n",
      "         'sum_of_all_elements_in_the_list = sum(numbers)\\n'\n",
      "         'print(sum_of_all_elements_in_the_list)',\n",
      " '_i31': '### sum with starting value\\n'\n",
      "         'numbers = [x for x in range(1,11)]\\n'\n",
      "         'sum_with_number = sum(numbers,10)\\n'\n",
      "         'print(sum_with_number)\\n'\n",
      "         'sum_of_all_elements_in_the_list = sum(numbers)\\n'\n",
      "         'print(sum_of_all_elements_in_the_list)',\n",
      " '_i32': 'from collections import defaultdict\\n'\n",
      "         'colors = '\n",
      "         \"[('apple','red'),('banana','yellow'),('cherry','red'),('orange','orange'),('lime','yellow')]\\n\"\n",
      "         'color_dict = defaultdict(list)\\n'\n",
      "         '\\n'\n",
      "         'for fruit,color in colors:\\n'\n",
      "         '    color_dict[color].append(fruit)\\n'\n",
      "         '\\n'\n",
      "         'print(color_dict)',\n",
      " '_i33': '### Defaultdict\\n'\n",
      "         '\\n'\n",
      "         'def my_decorator(func):\\n'\n",
      "         '    def wrappers(*args,**kwargs):\\n'\n",
      "         \"        print('First Message!')\\n\"\n",
      "         '        result = func(*args,**kwargs)\\n'\n",
      "         \"        print('Second Message')\\n\"\n",
      "         '        return result\\n'\n",
      "         '    return wrappers\\n'\n",
      "         '\\n'\n",
      "         '@my_decorator\\n'\n",
      "         'def say_hello():\\n'\n",
      "         \"    print('Hello')\\n\"\n",
      "         '\\n'\n",
      "         'say_hello()',\n",
      " '_i34': '### Defaultdict\\n'\n",
      "         '\\n'\n",
      "         'def my_decorator(func):\\n'\n",
      "         '    def wrappers(*args,**kwargs):\\n'\n",
      "         \"        print('First Message!')\\n\"\n",
      "         '        result = func(*args,**kwargs)\\n'\n",
      "         \"        print('Second Message')\\n\"\n",
      "         '        return result\\n'\n",
      "         '    return wrappers\\n'\n",
      "         '\\n'\n",
      "         '@my_decorator\\n'\n",
      "         'def say_hello():\\n'\n",
      "         \"    print('Hello')\\n\"\n",
      "         \"    print('World!')\\n\"\n",
      "         '\\n'\n",
      "         'say_hello()',\n",
      " '_i35': 'import functools\\n'\n",
      "         '\\n'\n",
      "         'def power(base,exponent):\\n'\n",
      "         '    return base ** exponent\\n'\n",
      "         'square = functools.partial(power,exponent=2)\\n'\n",
      "         'cube   = functools.partial(power,exponent=5)\\n'\n",
      "         'print(square)\\n'\n",
      "         'print(cube)',\n",
      " '_i36': 'print(square(4))\\nprint(cube(4))',\n",
      " '_i37': 'print(square(4))\\nprint(cube(4))',\n",
      " '_i38': 'print(square(5))\\nprint(cube(5))',\n",
      " '_i39': '### access global functions\\n'\n",
      "         'x = 10\\n'\n",
      "         'def function():\\n'\n",
      "         '    x = 20\\n'\n",
      "         '    print(x)\\n'\n",
      "         '    print(locals())\\n'\n",
      "         '    print(globals())\\n'\n",
      "         \"    print(globals()['x'])\\n\"\n",
      "         '\\n'\n",
      "         '\\n'\n",
      "         \"if __name__ == '__main__':\\n\"\n",
      "         '    function()',\n",
      " '_i4': 'for data in zip:\\n    print(data)',\n",
      " '_i40': '### access global functions\\n'\n",
      "         'from prettyprint import pprint\\n'\n",
      "         'x = 10\\n'\n",
      "         'def function():\\n'\n",
      "         '    x = 20\\n'\n",
      "         '    print(x)\\n'\n",
      "         '    print(locals())\\n'\n",
      "         '    pprint(globals())\\n'\n",
      "         \"    print(globals()['x'])\\n\"\n",
      "         '\\n'\n",
      "         '\\n'\n",
      "         \"if __name__ == '__main__':\\n\"\n",
      "         '    function()',\n",
      " '_i41': '### access global functions\\n'\n",
      "         'import pprint\\n'\n",
      "         'x = 10\\n'\n",
      "         'def function():\\n'\n",
      "         '    x = 20\\n'\n",
      "         '    print(x)\\n'\n",
      "         '    print(locals())\\n'\n",
      "         '    pprint.pprint(globals())\\n'\n",
      "         \"    print(globals()['x'])\\n\"\n",
      "         '\\n'\n",
      "         '\\n'\n",
      "         \"if __name__ == '__main__':\\n\"\n",
      "         '    function()',\n",
      " '_i5': 'for data in dict(zip):\\n    print(data)',\n",
      " '_i6': 'for data in set(zip):\\n    print(data)',\n",
      " '_i7': 'for data in list(zip):\\n    print(data)',\n",
      " '_i8': 'print(list(result))',\n",
      " '_i9': '### Enumerate\\n'\n",
      "        'fruits = [\"apple\",\"banana\",\"cherry\"]\\n'\n",
      "        'for index,fruit in enumerate(fruits):\\n'\n",
      "        '    print(f\"Index: {index},fruits--> {fruit}\")',\n",
      " '_ih': ['',\n",
      "         '# Default Dictonary\\n'\n",
      "         'from collections import defaultdict\\n'\n",
      "         'd = defaultdict(int)\\n'\n",
      "         'print(d)',\n",
      "         '### zip function\\n'\n",
      "         \"subjects = ['math','science','english']\\n\"\n",
      "         'marks = [40,50,60]\\n'\n",
      "         'result = zip(subjects,marks)\\n'\n",
      "         'print(result)',\n",
      "         'print(set(result))',\n",
      "         'for data in zip:\\n    print(data)',\n",
      "         'for data in dict(zip):\\n    print(data)',\n",
      "         'for data in set(zip):\\n    print(data)',\n",
      "         'for data in list(zip):\\n    print(data)',\n",
      "         'print(list(result))',\n",
      "         '### Enumerate\\n'\n",
      "         'fruits = [\"apple\",\"banana\",\"cherry\"]\\n'\n",
      "         'for index,fruit in enumerate(fruits):\\n'\n",
      "         '    print(f\"Index: {index},fruits--> {fruit}\")',\n",
      "         'print(fruits)',\n",
      "         'for fruit in fruits:\\n    print(fruit)',\n",
      "         'numbers = [x for x in range(10)]\\nprint(numbers)',\n",
      "         'any_even = any(x%2 ==0 for x in number)\\n'\n",
      "         'all_even = all(x%2 == 0 for x in numbers)\\n'\n",
      "         'print(any_even)\\n'\n",
      "         \"print(f'All even numbers are {all_even}')\",\n",
      "         'any_even = any(x%2 ==0 for x in numbers)\\n'\n",
      "         'all_even = all(x%2 == 0 for x in numbers)\\n'\n",
      "         'print(any_even)\\n'\n",
      "         \"print(f'All even numbers are {all_even}')\",\n",
      "         '### One Liner function\\n'\n",
      "         'x = 4\\n'\n",
      "         'square = lambda x: x**2\\n'\n",
      "         'print(square)',\n",
      "         'print(x)',\n",
      "         'print(square(4))',\n",
      "         'def add(a,b):\\n    return lambda c: a+b\\n\\nprint(add(5))',\n",
      "         'def add(a,b):\\n    return lambda c: a+b\\n\\nprint(add(5,6))',\n",
      "         'def add(a,b):\\n'\n",
      "         '    return lambda c: a+b\\n'\n",
      "         '\\n'\n",
      "         'result = add(5,6)\\n'\n",
      "         'print(result)',\n",
      "         'def add(a,b):\\n'\n",
      "         '    return lambda c: a+b\\n'\n",
      "         '\\n'\n",
      "         'result = add(5,6)\\n'\n",
      "         'print(result(10,10))',\n",
      "         'def add(a,b):\\n'\n",
      "         '    return lambda c: a+b\\n'\n",
      "         '\\n'\n",
      "         'result = add(5,6)\\n'\n",
      "         'print(result(10))',\n",
      "         'def add(a,b):\\n'\n",
      "         '    return lambda c: a+b\\n'\n",
      "         '\\n'\n",
      "         'result = add(5,6)\\n'\n",
      "         'print(result(0))',\n",
      "         'def add(a,b):\\n'\n",
      "         '    return lambda c: a+b\\n'\n",
      "         '\\n'\n",
      "         'result = add(5,6)\\n'\n",
      "         'print(result())',\n",
      "         'def add(a,b):\\n'\n",
      "         '    return lambda c: a+b\\n'\n",
      "         '\\n'\n",
      "         'result = add(5,6)\\n'\n",
      "         'print(result(0))',\n",
      "         '### filter and map function',\n",
      "         'numbers = [x for x in range(1,6)]\\n'\n",
      "         'evens = list(filter(lambda x: x%2==0,numbers))\\n'\n",
      "         'print(evens)',\n",
      "         '### Dictonary comprehension\\n'\n",
      "         'squared_dict = {x:x**2 for x in range(1,11)}\\n'\n",
      "         'print(squared_dict)',\n",
      "         '### sum with starting value\\n'\n",
      "         'numbers = [x for x in range(1,11)]\\n'\n",
      "         'sum_with_number = sum(10,numbers)\\n'\n",
      "         'print(sum_with_number)\\n'\n",
      "         'sum_of_all_elements_in_the_list = sum(numbers)\\n'\n",
      "         'print(sum_of_all_elements_in_the_list)',\n",
      "         '### sum with starting value\\n'\n",
      "         'numbers = [1,2,3]\\n'\n",
      "         'sum_with_number = sum(10,numbers)\\n'\n",
      "         'print(sum_with_number)\\n'\n",
      "         'sum_of_all_elements_in_the_list = sum(numbers)\\n'\n",
      "         'print(sum_of_all_elements_in_the_list)',\n",
      "         '### sum with starting value\\n'\n",
      "         'numbers = [x for x in range(1,11)]\\n'\n",
      "         'sum_with_number = sum(numbers,10)\\n'\n",
      "         'print(sum_with_number)\\n'\n",
      "         'sum_of_all_elements_in_the_list = sum(numbers)\\n'\n",
      "         'print(sum_of_all_elements_in_the_list)',\n",
      "         'from collections import defaultdict\\n'\n",
      "         'colors = '\n",
      "         \"[('apple','red'),('banana','yellow'),('cherry','red'),('orange','orange'),('lime','yellow')]\\n\"\n",
      "         'color_dict = defaultdict(list)\\n'\n",
      "         '\\n'\n",
      "         'for fruit,color in colors:\\n'\n",
      "         '    color_dict[color].append(fruit)\\n'\n",
      "         '\\n'\n",
      "         'print(color_dict)',\n",
      "         '### Defaultdict\\n'\n",
      "         '\\n'\n",
      "         'def my_decorator(func):\\n'\n",
      "         '    def wrappers(*args,**kwargs):\\n'\n",
      "         \"        print('First Message!')\\n\"\n",
      "         '        result = func(*args,**kwargs)\\n'\n",
      "         \"        print('Second Message')\\n\"\n",
      "         '        return result\\n'\n",
      "         '    return wrappers\\n'\n",
      "         '\\n'\n",
      "         '@my_decorator\\n'\n",
      "         'def say_hello():\\n'\n",
      "         \"    print('Hello')\\n\"\n",
      "         '\\n'\n",
      "         'say_hello()',\n",
      "         '### Defaultdict\\n'\n",
      "         '\\n'\n",
      "         'def my_decorator(func):\\n'\n",
      "         '    def wrappers(*args,**kwargs):\\n'\n",
      "         \"        print('First Message!')\\n\"\n",
      "         '        result = func(*args,**kwargs)\\n'\n",
      "         \"        print('Second Message')\\n\"\n",
      "         '        return result\\n'\n",
      "         '    return wrappers\\n'\n",
      "         '\\n'\n",
      "         '@my_decorator\\n'\n",
      "         'def say_hello():\\n'\n",
      "         \"    print('Hello')\\n\"\n",
      "         \"    print('World!')\\n\"\n",
      "         '\\n'\n",
      "         'say_hello()',\n",
      "         'import functools\\n'\n",
      "         '\\n'\n",
      "         'def power(base,exponent):\\n'\n",
      "         '    return base ** exponent\\n'\n",
      "         'square = functools.partial(power,exponent=2)\\n'\n",
      "         'cube   = functools.partial(power,exponent=5)\\n'\n",
      "         'print(square)\\n'\n",
      "         'print(cube)',\n",
      "         'print(square(4))\\nprint(cube(4))',\n",
      "         'print(square(4))\\nprint(cube(4))',\n",
      "         'print(square(5))\\nprint(cube(5))',\n",
      "         '### access global functions\\n'\n",
      "         'x = 10\\n'\n",
      "         'def function():\\n'\n",
      "         '    x = 20\\n'\n",
      "         '    print(x)\\n'\n",
      "         '    print(locals())\\n'\n",
      "         '    print(globals())\\n'\n",
      "         \"    print(globals()['x'])\\n\"\n",
      "         '\\n'\n",
      "         '\\n'\n",
      "         \"if __name__ == '__main__':\\n\"\n",
      "         '    function()',\n",
      "         '### access global functions\\n'\n",
      "         'from prettyprint import pprint\\n'\n",
      "         'x = 10\\n'\n",
      "         'def function():\\n'\n",
      "         '    x = 20\\n'\n",
      "         '    print(x)\\n'\n",
      "         '    print(locals())\\n'\n",
      "         '    pprint(globals())\\n'\n",
      "         \"    print(globals()['x'])\\n\"\n",
      "         '\\n'\n",
      "         '\\n'\n",
      "         \"if __name__ == '__main__':\\n\"\n",
      "         '    function()',\n",
      "         '### access global functions\\n'\n",
      "         'import pprint\\n'\n",
      "         'x = 10\\n'\n",
      "         'def function():\\n'\n",
      "         '    x = 20\\n'\n",
      "         '    print(x)\\n'\n",
      "         '    print(locals())\\n'\n",
      "         '    pprint.pprint(globals())\\n'\n",
      "         \"    print(globals()['x'])\\n\"\n",
      "         '\\n'\n",
      "         '\\n'\n",
      "         \"if __name__ == '__main__':\\n\"\n",
      "         '    function()'],\n",
      " '_ii': '### access global functions\\n'\n",
      "        'x = 10\\n'\n",
      "        'def function():\\n'\n",
      "        '    x = 20\\n'\n",
      "        '    print(x)\\n'\n",
      "        '    print(locals())\\n'\n",
      "        '    print(globals())\\n'\n",
      "        \"    print(globals()['x'])\\n\"\n",
      "        '\\n'\n",
      "        '\\n'\n",
      "        \"if __name__ == '__main__':\\n\"\n",
      "        '    function()',\n",
      " '_iii': 'print(square(5))\\nprint(cube(5))',\n",
      " '_oh': {},\n",
      " 'add': <function add at 0x000001C64FAFB2E0>,\n",
      " 'all_even': False,\n",
      " 'any_even': True,\n",
      " 'color': 'yellow',\n",
      " 'color_dict': defaultdict(<class 'list'>,\n",
      "                           {'orange': ['orange'],\n",
      "                            'red': ['apple', 'cherry'],\n",
      "                            'yellow': ['banana', 'lime']}),\n",
      " 'colors': [('apple', 'red'),\n",
      "            ('banana', 'yellow'),\n",
      "            ('cherry', 'red'),\n",
      "            ('orange', 'orange'),\n",
      "            ('lime', 'yellow')],\n",
      " 'cube': functools.partial(<function power at 0x000001C64F316340>, exponent=5),\n",
      " 'd': defaultdict(<class 'int'>, {}),\n",
      " 'defaultdict': <class 'collections.defaultdict'>,\n",
      " 'evens': [2, 4],\n",
      " 'exit': <IPython.core.autocall.ZMQExitAutocall object at 0x000001C64F202B90>,\n",
      " 'fruit': 'lime',\n",
      " 'fruits': ['apple', 'banana', 'cherry'],\n",
      " 'function': <function function at 0x000001C64F308900>,\n",
      " 'functools': <module 'functools' from 'C:\\\\Program Files\\\\WindowsApps\\\\PythonSoftwareFoundation.Python.3.11_3.11.1264.0_x64__qbz5n2kfra8p0\\\\Lib\\\\functools.py'>,\n",
      " 'get_ipython': <bound method InteractiveShell.get_ipython of <ipykernel.zmqshell.ZMQInteractiveShell object at 0x000001C64EFEAAD0>>,\n",
      " 'index': 2,\n",
      " 'marks': [40, 50, 60],\n",
      " 'my_decorator': <function my_decorator at 0x000001C650D68680>,\n",
      " 'numbers': [1, 2, 3, 4, 5, 6, 7, 8, 9, 10],\n",
      " 'open': <function open at 0x000001C64C2DA020>,\n",
      " 'power': <function power at 0x000001C64F316340>,\n",
      " 'pprint': <module 'pprint' from 'C:\\\\Program Files\\\\WindowsApps\\\\PythonSoftwareFoundation.Python.3.11_3.11.1264.0_x64__qbz5n2kfra8p0\\\\Lib\\\\pprint.py'>,\n",
      " 'quit': <IPython.core.autocall.ZMQExitAutocall object at 0x000001C64F202B90>,\n",
      " 'result': <function add.<locals>.<lambda> at 0x000001C64FAFB7E0>,\n",
      " 'say_hello': <function my_decorator.<locals>.wrappers at 0x000001C650D69D00>,\n",
      " 'square': functools.partial(<function power at 0x000001C64F316340>, exponent=2),\n",
      " 'squared_dict': {1: 1,\n",
      "                  2: 4,\n",
      "                  3: 9,\n",
      "                  4: 16,\n",
      "                  5: 25,\n",
      "                  6: 36,\n",
      "                  7: 49,\n",
      "                  8: 64,\n",
      "                  9: 81,\n",
      "                  10: 100},\n",
      " 'subjects': ['math', 'science', 'english'],\n",
      " 'sum_of_all_elements_in_the_list': 55,\n",
      " 'sum_with_number': 65,\n",
      " 'x': 10}\n",
      "10\n"
     ]
    }
   ],
   "source": [
    "### access global functions\n",
    "import pprint\n",
    "x = 10\n",
    "def function():\n",
    "    x = 20\n",
    "    print(x)\n",
    "    print(locals())\n",
    "    pprint.pprint(globals())\n",
    "    print(globals()['x'])\n",
    "\n",
    "\n",
    "if __name__ == '__main__':\n",
    "    function()"
   ]
  },
  {
   "cell_type": "code",
   "execution_count": 42,
   "id": "d811dcfe-efff-4312-8747-c44c688cd551",
   "metadata": {},
   "outputs": [
    {
     "name": "stdout",
     "output_type": "stream",
     "text": [
      "[1, 2, 3, 4, 5, 6, 7, 8, 9, 10]\n",
      "[9, 6, 5, 8, 3, 7, 1, 2, 10, 4]\n"
     ]
    }
   ],
   "source": [
    "#### List shuffle\n",
    "import random\n",
    "numbers = [x for x in range(1,11)]\n",
    "print(numbers)\n",
    "\n",
    "random.shuffle(numbers)\n",
    "print(numbers)"
   ]
  },
  {
   "cell_type": "code",
   "execution_count": 44,
   "id": "f02aa481-5bda-4ac3-bcee-4f96e76210d0",
   "metadata": {},
   "outputs": [],
   "source": [
    "### Merge two liss\n",
    "list1 = [x for x in range(1,5)]\n",
    "list2 = [y for y in range(6,10)]\n",
    "list1.extend(list2)"
   ]
  },
  {
   "cell_type": "code",
   "execution_count": 45,
   "id": "fcf1d379-cca0-40cf-aeb5-440ca1cb3fc0",
   "metadata": {},
   "outputs": [
    {
     "name": "stdout",
     "output_type": "stream",
     "text": [
      "[1, 2, 3, 4, 6, 7, 8, 9]\n"
     ]
    }
   ],
   "source": [
    "print(list1)"
   ]
  },
  {
   "cell_type": "code",
   "execution_count": null,
   "id": "42d6e4b3-3015-4be4-9f9c-ee39387b6c49",
   "metadata": {},
   "outputs": [],
   "source": []
  }
 ],
 "metadata": {
  "kernelspec": {
   "display_name": "Python 3 (ipykernel)",
   "language": "python",
   "name": "python3"
  },
  "language_info": {
   "codemirror_mode": {
    "name": "ipython",
    "version": 3
   },
   "file_extension": ".py",
   "mimetype": "text/x-python",
   "name": "python",
   "nbconvert_exporter": "python",
   "pygments_lexer": "ipython3",
   "version": "3.11.4"
  }
 },
 "nbformat": 4,
 "nbformat_minor": 5
}
