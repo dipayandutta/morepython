{
 "cells": [
  {
   "cell_type": "markdown",
   "id": "6e10be83-e754-409a-8d2e-45fcd7770266",
   "metadata": {},
   "source": [
    "#### Recursion"
   ]
  },
  {
   "cell_type": "code",
   "execution_count": 9,
   "id": "a0f59e85-d488-41b0-b2b2-43ccfa7dd6e8",
   "metadata": {},
   "outputs": [
    {
     "name": "stdout",
     "output_type": "stream",
     "text": [
      "10\n",
      "9\n",
      "8\n",
      "7\n",
      "6\n",
      "5\n",
      "4\n",
      "3\n",
      "2\n",
      "1\n"
     ]
    }
   ],
   "source": [
    "def countdown(number):\n",
    "    print(number)\n",
    "    if number == 0:\n",
    "        return 0\n",
    "    elif number< -1:\n",
    "        return -1\n",
    "    elif number>1:\n",
    "        countdown(number-1)\n",
    "\n",
    "if __name__ == '__main__':\n",
    "    countdown(10)"
   ]
  },
  {
   "cell_type": "markdown",
   "id": "c8767398-4e1e-47de-b409-0f7ca969ac2a",
   "metadata": {},
   "source": [
    "#### Factorial"
   ]
  },
  {
   "cell_type": "code",
   "execution_count": 14,
   "id": "6297a1cf-0cc3-4cba-a8d7-a5340f69a9c7",
   "metadata": {},
   "outputs": [
    {
     "name": "stdout",
     "output_type": "stream",
     "text": [
      "-3\n",
      "3\n"
     ]
    }
   ],
   "source": [
    "## Problem -- We have a sorted array , we have to find the two numbers whose sum is zero , from that sorted array \n",
    "### array -> [-10,-8,-3,3,4,5]\n",
    "\n",
    "### TWO POINTER TECHNIQUE\n",
    "arr = [-10,-8,-3,3,4,5]\n",
    "\n",
    "left = 0\n",
    "right = len(arr) - 1\n",
    "\n",
    "\n",
    "while(left<right):\n",
    "    sum = arr[left]+arr[right]\n",
    "\n",
    "    if(sum == 0):\n",
    "        print(arr[left])\n",
    "        print(arr[right])\n",
    "        break\n",
    "\n",
    "    elif(sum<0):\n",
    "        left+=1\n",
    "    else:\n",
    "        right-=1"
   ]
  },
  {
   "cell_type": "markdown",
   "id": "3581a367-0262-4b6f-80d3-eb437f5b28f1",
   "metadata": {},
   "source": [
    "#### yield"
   ]
  },
  {
   "cell_type": "code",
   "execution_count": 15,
   "id": "dc45ed8b-dc79-4b37-97cb-09ac0a8021bd",
   "metadata": {},
   "outputs": [],
   "source": [
    "def factors(number):\n",
    "    result = []\n",
    "    for k in range(1,number+1):\n",
    "        if number%k == 0:\n",
    "            result.append(k)\n",
    "    return result"
   ]
  },
  {
   "cell_type": "code",
   "execution_count": 16,
   "id": "0a843445-208d-4a5f-9ea5-9a68bbdb65d5",
   "metadata": {},
   "outputs": [],
   "source": [
    "result = factors(10)"
   ]
  },
  {
   "cell_type": "code",
   "execution_count": 17,
   "id": "fd67fb9f-cc43-418d-947b-3006b35e73c0",
   "metadata": {},
   "outputs": [
    {
     "name": "stdout",
     "output_type": "stream",
     "text": [
      "[1, 2, 5, 10]\n"
     ]
    }
   ],
   "source": [
    "print(result)"
   ]
  },
  {
   "cell_type": "code",
   "execution_count": 18,
   "id": "18d490e9-79b3-47aa-ae0d-749e98eb6539",
   "metadata": {},
   "outputs": [],
   "source": [
    "def factors(number):\n",
    "    for k in range(1,number+1):\n",
    "        if number%k == 0:\n",
    "            yield k"
   ]
  },
  {
   "cell_type": "code",
   "execution_count": 19,
   "id": "3eb293dd-650e-421c-9d53-e1734a33cd29",
   "metadata": {},
   "outputs": [],
   "source": [
    "result = factors(10)"
   ]
  },
  {
   "cell_type": "code",
   "execution_count": 20,
   "id": "f488f713-45b8-49cd-8cf0-e5df28598488",
   "metadata": {},
   "outputs": [
    {
     "name": "stdout",
     "output_type": "stream",
     "text": [
      "<generator object factors at 0x000002317D8DA340>\n"
     ]
    }
   ],
   "source": [
    "print(result)"
   ]
  },
  {
   "cell_type": "code",
   "execution_count": 21,
   "id": "b45593a4-d981-44a7-a97c-9384c739d5ee",
   "metadata": {},
   "outputs": [
    {
     "data": {
      "text/plain": [
       "<generator object factors at 0x000002317ECD1000>"
      ]
     },
     "execution_count": 21,
     "metadata": {},
     "output_type": "execute_result"
    }
   ],
   "source": [
    "factors(10)"
   ]
  },
  {
   "cell_type": "code",
   "execution_count": 22,
   "id": "60b3e561-6ef6-4c23-bb99-c803c78146ed",
   "metadata": {},
   "outputs": [
    {
     "name": "stdout",
     "output_type": "stream",
     "text": [
      "1\n"
     ]
    }
   ],
   "source": [
    "print(next(result))"
   ]
  },
  {
   "cell_type": "code",
   "execution_count": 23,
   "id": "24e5e003-9065-405e-8d40-33842ded585c",
   "metadata": {},
   "outputs": [
    {
     "name": "stdout",
     "output_type": "stream",
     "text": [
      "2\n"
     ]
    }
   ],
   "source": [
    "print(next(result))"
   ]
  },
  {
   "cell_type": "code",
   "execution_count": 24,
   "id": "22928885-4120-4a64-b51c-c50dedeb75d3",
   "metadata": {},
   "outputs": [
    {
     "name": "stdout",
     "output_type": "stream",
     "text": [
      "5\n"
     ]
    }
   ],
   "source": [
    "print(next(result))"
   ]
  },
  {
   "cell_type": "code",
   "execution_count": 25,
   "id": "a792c790-e2a7-40fa-af27-9a6f1030097b",
   "metadata": {},
   "outputs": [
    {
     "name": "stdout",
     "output_type": "stream",
     "text": [
      "10\n"
     ]
    }
   ],
   "source": [
    "print(next(result))"
   ]
  },
  {
   "cell_type": "code",
   "execution_count": 26,
   "id": "50c2a68d-7e83-420b-a906-56e9910f34c5",
   "metadata": {},
   "outputs": [
    {
     "ename": "StopIteration",
     "evalue": "",
     "output_type": "error",
     "traceback": [
      "\u001b[1;31m---------------------------------------------------------------------------\u001b[0m",
      "\u001b[1;31mStopIteration\u001b[0m                             Traceback (most recent call last)",
      "Cell \u001b[1;32mIn[26], line 1\u001b[0m\n\u001b[1;32m----> 1\u001b[0m \u001b[38;5;28mprint\u001b[39m(\u001b[38;5;28;43mnext\u001b[39;49m\u001b[43m(\u001b[49m\u001b[43mresult\u001b[49m\u001b[43m)\u001b[49m)\n",
      "\u001b[1;31mStopIteration\u001b[0m: "
     ]
    }
   ],
   "source": [
    "print(next(result))"
   ]
  },
  {
   "cell_type": "code",
   "execution_count": 27,
   "id": "23e116b2-2cb8-4551-b8fd-014783f3db75",
   "metadata": {},
   "outputs": [
    {
     "name": "stdout",
     "output_type": "stream",
     "text": [
      "First Message!\n"
     ]
    }
   ],
   "source": [
    "def show_msg():\n",
    "    yield \"First Message!\"\n",
    "    yield \"Second Message!\"\n",
    "show = show_msg()\n",
    "print(next(show))"
   ]
  },
  {
   "cell_type": "code",
   "execution_count": 28,
   "id": "022698fb-6434-4975-b996-7a3f010d014f",
   "metadata": {},
   "outputs": [
    {
     "name": "stdout",
     "output_type": "stream",
     "text": [
      "Second Message!\n"
     ]
    }
   ],
   "source": [
    "print(next(show))"
   ]
  },
  {
   "cell_type": "code",
   "execution_count": null,
   "id": "7d0a1229-c23f-46d8-9aa5-8ae3a25000f0",
   "metadata": {},
   "outputs": [],
   "source": []
  }
 ],
 "metadata": {
  "kernelspec": {
   "display_name": "Python 3 (ipykernel)",
   "language": "python",
   "name": "python3"
  },
  "language_info": {
   "codemirror_mode": {
    "name": "ipython",
    "version": 3
   },
   "file_extension": ".py",
   "mimetype": "text/x-python",
   "name": "python",
   "nbconvert_exporter": "python",
   "pygments_lexer": "ipython3",
   "version": "3.11.4"
  }
 },
 "nbformat": 4,
 "nbformat_minor": 5
}
