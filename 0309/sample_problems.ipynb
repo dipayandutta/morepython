{
 "cells": [
  {
   "cell_type": "code",
   "execution_count": 5,
   "id": "b97b0142-2741-45f2-a099-49bad4723f64",
   "metadata": {},
   "outputs": [
    {
     "name": "stdin",
     "output_type": "stream",
     "text": [
      " dasdaq2342\n"
     ]
    },
    {
     "name": "stdout",
     "output_type": "stream",
     "text": [
      "Letters 6\n",
      "DIGITS 4\n"
     ]
    }
   ],
   "source": [
    "user_input = input()\n",
    "d = {\"DIGITS\":0,\"LETTERS\":0}\n",
    "for chars in user_input:\n",
    "    if chars.isdigit():\n",
    "        d[\"DIGITS\"]+=1\n",
    "    elif chars.isalpha():\n",
    "        d[\"LETTERS\"]+=1\n",
    "    else:\n",
    "        pass\n",
    "\n",
    "print(\"Letters\",d[\"LETTERS\"])\n",
    "print(\"DIGITS\",d[\"DIGITS\"])"
   ]
  },
  {
   "cell_type": "code",
   "execution_count": 6,
   "id": "93fccf6e-87b6-4144-8b2b-ddb1accf921d",
   "metadata": {},
   "outputs": [],
   "source": [
    "### Built in doc methods"
   ]
  },
  {
   "cell_type": "code",
   "execution_count": 7,
   "id": "aea00d56-42c6-4b08-9e93-2ecd42f96ab8",
   "metadata": {},
   "outputs": [
    {
     "name": "stdout",
     "output_type": "stream",
     "text": [
      "Return the absolute value of the argument.\n"
     ]
    }
   ],
   "source": [
    "print (abs.__doc__)"
   ]
  },
  {
   "cell_type": "code",
   "execution_count": 8,
   "id": "9aab1839-24ca-4b6f-ac9e-ceeeb09e8771",
   "metadata": {},
   "outputs": [
    {
     "name": "stdout",
     "output_type": "stream",
     "text": [
      "int([x]) -> integer\n",
      "int(x, base=10) -> integer\n",
      "\n",
      "Convert a number or string to an integer, or return 0 if no arguments\n",
      "are given.  If x is a number, return x.__int__().  For floating point\n",
      "numbers, this truncates towards zero.\n",
      "\n",
      "If x is not a number or if base is given, then x must be a string,\n",
      "bytes, or bytearray instance representing an integer literal in the\n",
      "given base.  The literal can be preceded by '+' or '-' and be surrounded\n",
      "by whitespace.  The base defaults to 10.  Valid bases are 0 and 2-36.\n",
      "Base 0 means to interpret the base from the string as an integer literal.\n",
      ">>> int('0b100', base=0)\n",
      "4\n"
     ]
    }
   ],
   "source": [
    "print(int.__doc__)"
   ]
  },
  {
   "cell_type": "code",
   "execution_count": 9,
   "id": "bf5417be-cffc-42d0-b931-2941dfe3129d",
   "metadata": {},
   "outputs": [
    {
     "name": "stdout",
     "output_type": "stream",
     "text": [
      "4\n",
      "\n",
      "        Returns a square of a number\n",
      "    \n"
     ]
    }
   ],
   "source": [
    "def square(num):\n",
    "    '''\n",
    "        Returns a square of a number\n",
    "    '''\n",
    "    return num*2\n",
    "\n",
    "print(square(2))\n",
    "print(square.__doc__)"
   ]
  },
  {
   "cell_type": "code",
   "execution_count": 10,
   "id": "b560537b-63e2-4c3e-868a-dbd4c52dbcdd",
   "metadata": {},
   "outputs": [
    {
     "name": "stdout",
     "output_type": "stream",
     "text": [
      "32\n"
     ]
    }
   ],
   "source": [
    "def strConcat(num1,num2):\n",
    "    return num1+num2\n",
    "\n",
    "result = strConcat(\"3\",\"2\")\n",
    "print(result)"
   ]
  },
  {
   "cell_type": "code",
   "execution_count": 11,
   "id": "b3e05383-0dca-4c58-a5d5-5eab37d9f994",
   "metadata": {},
   "outputs": [
    {
     "name": "stdout",
     "output_type": "stream",
     "text": [
      "5\n"
     ]
    }
   ],
   "source": [
    "def addStrings(num1,num2):\n",
    "    return int(num1)+int(num2)\n",
    "\n",
    "result = addStrings(\"2\",\"3\")\n",
    "print(result)"
   ]
  },
  {
   "cell_type": "code",
   "execution_count": 12,
   "id": "c64e450f-9475-4bf0-aaa1-a64b415c6eaf",
   "metadata": {},
   "outputs": [
    {
     "name": "stdout",
     "output_type": "stream",
     "text": [
      "{1: 1, 2: 4, 3: 9, 4: 16, 5: 25, 6: 36, 7: 49, 8: 64, 9: 81, 10: 100, 11: 121, 12: 144, 13: 169, 14: 196, 15: 225, 16: 256, 17: 289, 18: 324, 19: 361, 20: 400}\n"
     ]
    }
   ],
   "source": [
    "### Define a function which can print a dictonary where the keys are numbers between 1 to 20 and values are square of them\n",
    "\n",
    "def printDict():\n",
    "    d = {}\n",
    "    for i in range(1,21):\n",
    "        d[i] = i**2\n",
    "    print(d)\n",
    "\n",
    "if __name__ == '__main__':\n",
    "    printDict()"
   ]
  },
  {
   "cell_type": "code",
   "execution_count": 14,
   "id": "80849a9c-1915-4b3e-8463-76b97d9e3db6",
   "metadata": {},
   "outputs": [
    {
     "name": "stdout",
     "output_type": "stream",
     "text": [
      "[1, 4, 9, 16, 25, 36, 49, 64, 81, 100, 121, 144, 169, 196, 225, 256, 289, 324, 361, 400]\n",
      "First Five elements\n",
      "[1, 4, 9, 16, 25]\n"
     ]
    }
   ],
   "source": [
    "### Same problem with list\n",
    "def printList():\n",
    "    l = list()\n",
    "    for i in range(1,21):\n",
    "        l.append(i**2)\n",
    "    print(l)\n",
    "    ### to print first 5 \n",
    "    print(\"First Five elements\")\n",
    "    print(l[:5])\n",
    "\n",
    "if __name__ == '__main__':\n",
    "    printList()"
   ]
  },
  {
   "cell_type": "code",
   "execution_count": null,
   "id": "2d646383-d5bf-4d40-83bc-dc3ae6101b39",
   "metadata": {},
   "outputs": [],
   "source": []
  }
 ],
 "metadata": {
  "kernelspec": {
   "display_name": "Python 3 (ipykernel)",
   "language": "python",
   "name": "python3"
  },
  "language_info": {
   "codemirror_mode": {
    "name": "ipython",
    "version": 3
   },
   "file_extension": ".py",
   "mimetype": "text/x-python",
   "name": "python",
   "nbconvert_exporter": "python",
   "pygments_lexer": "ipython3",
   "version": "3.11.5"
  }
 },
 "nbformat": 4,
 "nbformat_minor": 5
}
