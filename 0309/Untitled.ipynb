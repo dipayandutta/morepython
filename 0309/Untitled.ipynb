{
 "cells": [
  {
   "cell_type": "code",
   "execution_count": 1,
   "id": "5a540ee2-ae62-4368-b7bb-d6bd07932805",
   "metadata": {},
   "outputs": [
    {
     "name": "stdout",
     "output_type": "stream",
     "text": [
      "int([x]) -> integer\n",
      "int(x, base=10) -> integer\n",
      "\n",
      "Convert a number or string to an integer, or return 0 if no arguments\n",
      "are given.  If x is a number, return x.__int__().  For floating point\n",
      "numbers, this truncates towards zero.\n",
      "\n",
      "If x is not a number or if base is given, then x must be a string,\n",
      "bytes, or bytearray instance representing an integer literal in the\n",
      "given base.  The literal can be preceded by '+' or '-' and be surrounded\n",
      "by whitespace.  The base defaults to 10.  Valid bases are 0 and 2-36.\n",
      "Base 0 means to interpret the base from the string as an integer literal.\n",
      ">>> int('0b100', base=0)\n",
      "4\n"
     ]
    }
   ],
   "source": [
    "print(int.__doc__)"
   ]
  },
  {
   "cell_type": "code",
   "execution_count": 2,
   "id": "681c8d9c-8b47-491b-bb38-0ef57ead6175",
   "metadata": {},
   "outputs": [
    {
     "name": "stdout",
     "output_type": "stream",
     "text": [
      "Return the absolute value of the argument.\n"
     ]
    }
   ],
   "source": [
    "print(abs.__doc__)"
   ]
  },
  {
   "cell_type": "code",
   "execution_count": 3,
   "id": "42f6fbfc-5755-41da-8de1-81f0ed183a17",
   "metadata": {},
   "outputs": [
    {
     "name": "stdout",
     "output_type": "stream",
     "text": [
      "4\n"
     ]
    }
   ],
   "source": [
    "def squareOfANumber(num):\n",
    "    return num**2\n",
    "\n",
    "print(squareOfANumber(2))"
   ]
  },
  {
   "cell_type": "code",
   "execution_count": 4,
   "id": "8d2c214f-a2c4-40a6-9e68-3bb323275e58",
   "metadata": {},
   "outputs": [
    {
     "name": "stdout",
     "output_type": "stream",
     "text": [
      "None\n"
     ]
    }
   ],
   "source": [
    "print(squareOfANumber.__doc__)"
   ]
  },
  {
   "cell_type": "code",
   "execution_count": 5,
   "id": "5ddd56ce-4723-4638-b751-bcc41a93c547",
   "metadata": {},
   "outputs": [
    {
     "name": "stdout",
     "output_type": "stream",
     "text": [
      "4\n"
     ]
    }
   ],
   "source": [
    "def squareOfANumber(num):\n",
    "    '''\n",
    "        Returns a square of a number\n",
    "    '''\n",
    "    return num**2\n",
    "\n",
    "print(squareOfANumber(2))"
   ]
  },
  {
   "cell_type": "code",
   "execution_count": 6,
   "id": "c15c9869-b598-4d77-8ad1-55510065c392",
   "metadata": {},
   "outputs": [
    {
     "name": "stdout",
     "output_type": "stream",
     "text": [
      "\n",
      "        Returns a square of a number\n",
      "    \n"
     ]
    }
   ],
   "source": [
    "print(squareOfANumber.__doc__)"
   ]
  },
  {
   "cell_type": "code",
   "execution_count": 7,
   "id": "2ebce48e-c0ca-4b44-a203-f44d594f6505",
   "metadata": {},
   "outputs": [
    {
     "name": "stdin",
     "output_type": "stream",
     "text": [
      " dasdasd123121xadsa\n"
     ]
    },
    {
     "name": "stdout",
     "output_type": "stream",
     "text": [
      "Letters 12\n",
      "DIGITS 6\n"
     ]
    }
   ],
   "source": [
    "### userinput = abcs123\n",
    "### find out number of chars and numbers \n",
    "\n",
    "user_input = input()\n",
    "d = {\"DIGITS\":0,\"LETTERS\":0}\n",
    "\n",
    "for chars in user_input:\n",
    "    if chars.isdigit():\n",
    "        d[\"DIGITS\"]+=1\n",
    "    elif chars.isalpha():\n",
    "        d[\"LETTERS\"]+=1\n",
    "    else:\n",
    "        pass\n",
    "print(\"Letters\",d[\"LETTERS\"])\n",
    "print(\"DIGITS\",d[\"DIGITS\"])"
   ]
  },
  {
   "cell_type": "markdown",
   "id": "72f4e4e0-85b4-4ed3-b3ef-2ce0e89a758f",
   "metadata": {},
   "source": [
    "#### Pass function as an argument"
   ]
  },
  {
   "cell_type": "code",
   "execution_count": 12,
   "id": "21c68c04-8f4d-4dc1-b6f2-a06276f83e7c",
   "metadata": {},
   "outputs": [
    {
     "name": "stdout",
     "output_type": "stream",
     "text": [
      "43\n"
     ]
    }
   ],
   "source": [
    "def add(number1,number2):\n",
    "    return number1-number2\n",
    "\n",
    "def calculate(func,x,y):\n",
    "    return func(x,y)\n",
    "\n",
    "result = calculate(add,55,12)\n",
    "print(result)"
   ]
  },
  {
   "cell_type": "markdown",
   "id": "d948bac9-bb36-482d-a77e-0b6d7393c1ae",
   "metadata": {},
   "source": [
    "#### Nested function\n"
   ]
  },
  {
   "cell_type": "code",
   "execution_count": 14,
   "id": "b3c5921f-707e-401b-b53b-4be02eaa389c",
   "metadata": {},
   "outputs": [
    {
     "name": "stdout",
     "output_type": "stream",
     "text": [
      "82\n"
     ]
    }
   ],
   "source": [
    "def outer(x):\n",
    "    def inner(y):\n",
    "        return x+y\n",
    "    return inner\n",
    "\n",
    "outer_value = outer(5) \n",
    "inner_value = outer_value(77)\n",
    "print(inner_value)"
   ]
  },
  {
   "cell_type": "code",
   "execution_count": 16,
   "id": "860e2099-9827-4128-91a6-f06bafa44687",
   "metadata": {},
   "outputs": [
    {
     "name": "stdout",
     "output_type": "stream",
     "text": [
      "Hello Python.....\n"
     ]
    }
   ],
   "source": [
    "def greetins(name):\n",
    "    def hello():\n",
    "        return \"Hello \"+name+ \".....\"\n",
    "    return hello\n",
    "greet = greetins(\"Python\")\n",
    "print(greet())"
   ]
  },
  {
   "cell_type": "markdown",
   "id": "84edceeb-3711-4f66-b99a-542661c12ef5",
   "metadata": {},
   "source": [
    "#### Python Decorators = Basically, decorators takes in a function and adds some more functionality and returns it."
   ]
  },
  {
   "cell_type": "code",
   "execution_count": 18,
   "id": "7e263d15-9cef-4fa1-b156-de6cc37eb4b4",
   "metadata": {},
   "outputs": [],
   "source": [
    "def welcome_msg(func):\n",
    "    def inner():\n",
    "        print(\"I am Decorator\")\n",
    "        func()\n",
    "    return inner\n",
    "\n",
    "def normalFunction():\n",
    "    print(\"I am normal function\")"
   ]
  },
  {
   "cell_type": "code",
   "execution_count": 19,
   "id": "3883c76e-6216-44ec-981d-dbc560195877",
   "metadata": {},
   "outputs": [
    {
     "name": "stdout",
     "output_type": "stream",
     "text": [
      "I am normal function\n"
     ]
    }
   ],
   "source": [
    "normalFunction()"
   ]
  },
  {
   "cell_type": "code",
   "execution_count": 22,
   "id": "9bf297ea-4b1e-4394-b594-87a340f678e7",
   "metadata": {},
   "outputs": [
    {
     "name": "stdout",
     "output_type": "stream",
     "text": [
      "I am Decorator\n",
      "I am normal function\n"
     ]
    }
   ],
   "source": [
    "decorated_function = welcome_msg(normalFunction)\n",
    "decorated_function()"
   ]
  },
  {
   "cell_type": "markdown",
   "id": "513ad9a7-127a-4d74-9a06-1d1b7d668e1d",
   "metadata": {},
   "source": [
    "#### @ symbol for Decorator"
   ]
  },
  {
   "cell_type": "code",
   "execution_count": 23,
   "id": "6426138a-e6d8-4a4b-b2b1-d20e6d17abb3",
   "metadata": {},
   "outputs": [
    {
     "name": "stdout",
     "output_type": "stream",
     "text": [
      "I am decorator\n",
      "I am normal function\n"
     ]
    }
   ],
   "source": [
    "def welcome_msg(func):\n",
    "    def inner():\n",
    "        print(\"I am decorator\")\n",
    "        func()\n",
    "    return inner\n",
    "\n",
    "@welcome_msg\n",
    "def normal_function():\n",
    "    print(\"I am normal function\")\n",
    "\n",
    "normal_function()"
   ]
  },
  {
   "cell_type": "code",
   "execution_count": 25,
   "id": "26d249b8-bc34-4f01-a706-9b840dabeff8",
   "metadata": {},
   "outputs": [
    {
     "data": {
      "image/png": "[encoded data removed]",
      "text/plain": [
       "<Figure size 640x480 with 1 Axes>"
      ]
     },
     "metadata": {},
     "output_type": "display_data"
    }
   ],
   "source": [
    "### Draw a x and y axis using matplotlib\n",
    "import matplotlib.pyplot as plt\n",
    "\n",
    "# define x axis\n",
    "x = [1,2,3]\n",
    "# define y axis\n",
    "y = [4,5,6]\n",
    "\n",
    "# plot\n",
    "plt.plot(x,y)\n",
    "\n",
    "#x label \n",
    "plt.xlabel(('x-axis'))\n",
    "#y label\n",
    "plt.ylabel(('y-axis'))\n",
    "#show\n",
    "plt.show()"
   ]
  },
  {
   "cell_type": "code",
   "execution_count": null,
   "id": "2613bb1b-8604-417d-8f62-422bc09fa769",
   "metadata": {},
   "outputs": [],
   "source": []
  }
 ],
 "metadata": {
  "kernelspec": {
   "display_name": "Python 3 (ipykernel)",
   "language": "python",
   "name": "python3"
  },
  "language_info": {
   "codemirror_mode": {
    "name": "ipython",
    "version": 3
   },
   "file_extension": ".py",
   "mimetype": "text/x-python",
   "name": "python",
   "nbconvert_exporter": "python",
   "pygments_lexer": "ipython3",
   "version": "3.11.5"
  }
 },
 "nbformat": 4,
 "nbformat_minor": 5
}
