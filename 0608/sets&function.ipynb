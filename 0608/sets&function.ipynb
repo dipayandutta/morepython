{
 "cells": [
  {
   "cell_type": "markdown",
   "id": "9031e3be-87c2-4c1c-967a-ed9aa3d10890",
   "metadata": {},
   "source": [
    "## Python Sets"
   ]
  },
  {
   "cell_type": "code",
   "execution_count": 1,
   "id": "626f995c-2977-4b85-ad69-b82e421fc3b9",
   "metadata": {},
   "outputs": [],
   "source": [
    "## Define a set\n",
    "\n",
    "x = set(['foo','bar','baz'])"
   ]
  },
  {
   "cell_type": "code",
   "execution_count": 2,
   "id": "317e3ba4-4c86-40d0-bcd3-823a02b39870",
   "metadata": {},
   "outputs": [
    {
     "data": {
      "text/plain": [
       "{'bar', 'baz', 'foo'}"
      ]
     },
     "execution_count": 2,
     "metadata": {},
     "output_type": "execute_result"
    }
   ],
   "source": [
    "x"
   ]
  },
  {
   "cell_type": "code",
   "execution_count": 3,
   "id": "7b2ad187-0b09-4098-8a54-3794cd576351",
   "metadata": {},
   "outputs": [
    {
     "name": "stdout",
     "output_type": "stream",
     "text": [
      "<class 'set'>\n"
     ]
    }
   ],
   "source": [
    "print(type(x))"
   ]
  },
  {
   "cell_type": "code",
   "execution_count": 4,
   "id": "48c6be14-2232-473e-af1e-efcd60815197",
   "metadata": {},
   "outputs": [],
   "source": [
    "x = set(('foo','bar','baz'))"
   ]
  },
  {
   "cell_type": "code",
   "execution_count": 5,
   "id": "ef9eafc7-4a35-49cb-b8f3-8fdf0b7bf424",
   "metadata": {},
   "outputs": [
    {
     "data": {
      "text/plain": [
       "{'bar', 'baz', 'foo'}"
      ]
     },
     "execution_count": 5,
     "metadata": {},
     "output_type": "execute_result"
    }
   ],
   "source": [
    "x"
   ]
  },
  {
   "cell_type": "code",
   "execution_count": 6,
   "id": "936409bd-9211-48b9-ad6e-7e7d9e24d0ed",
   "metadata": {},
   "outputs": [],
   "source": [
    "str = 'uunix'"
   ]
  },
  {
   "cell_type": "code",
   "execution_count": 7,
   "id": "73b9c464-5716-4f87-abb5-6742da888ec1",
   "metadata": {},
   "outputs": [
    {
     "name": "stdout",
     "output_type": "stream",
     "text": [
      "<class 'str'>\n"
     ]
    }
   ],
   "source": [
    "print(type(str))"
   ]
  },
  {
   "cell_type": "code",
   "execution_count": 8,
   "id": "294ea3a0-eb25-4208-86f6-4b5ff734976e",
   "metadata": {},
   "outputs": [
    {
     "data": {
      "text/plain": [
       "'uunix'"
      ]
     },
     "execution_count": 8,
     "metadata": {},
     "output_type": "execute_result"
    }
   ],
   "source": [
    "str"
   ]
  },
  {
   "cell_type": "code",
   "execution_count": 9,
   "id": "b35ed5ca-862a-4d0f-ae9a-b84eede43cb1",
   "metadata": {},
   "outputs": [
    {
     "data": {
      "text/plain": [
       "['u', 'u', 'n', 'i', 'x']"
      ]
     },
     "execution_count": 9,
     "metadata": {},
     "output_type": "execute_result"
    }
   ],
   "source": [
    "list(str)"
   ]
  },
  {
   "cell_type": "code",
   "execution_count": 10,
   "id": "7557c70b-cc2c-4c9d-a891-7a2d52cf6446",
   "metadata": {},
   "outputs": [
    {
     "data": {
      "text/plain": [
       "{'i', 'n', 'u', 'x'}"
      ]
     },
     "execution_count": 10,
     "metadata": {},
     "output_type": "execute_result"
    }
   ],
   "source": [
    "set(str)"
   ]
  },
  {
   "cell_type": "code",
   "execution_count": 11,
   "id": "011a12c1-ca06-44b4-84fe-d0cce11abbbc",
   "metadata": {},
   "outputs": [],
   "source": [
    "x1 = {'foo','bar','baz'}\n",
    "x2 = {'bar','quz','abc'}"
   ]
  },
  {
   "cell_type": "code",
   "execution_count": 12,
   "id": "538e74fa-66fb-4f08-a377-341ffa05a3ec",
   "metadata": {},
   "outputs": [
    {
     "data": {
      "text/plain": [
       "{'bar', 'baz', 'foo'}"
      ]
     },
     "execution_count": 12,
     "metadata": {},
     "output_type": "execute_result"
    }
   ],
   "source": [
    "x1"
   ]
  },
  {
   "cell_type": "code",
   "execution_count": 13,
   "id": "468a67fc-ce45-4029-8066-eab560a04ef5",
   "metadata": {},
   "outputs": [
    {
     "data": {
      "text/plain": [
       "{'abc', 'bar', 'quz'}"
      ]
     },
     "execution_count": 13,
     "metadata": {},
     "output_type": "execute_result"
    }
   ],
   "source": [
    "x2"
   ]
  },
  {
   "cell_type": "code",
   "execution_count": 14,
   "id": "6afa7a61-b3e9-4543-951b-cb96fa90ebc1",
   "metadata": {},
   "outputs": [
    {
     "data": {
      "text/plain": [
       "{'abc', 'bar', 'baz', 'foo', 'quz'}"
      ]
     },
     "execution_count": 14,
     "metadata": {},
     "output_type": "execute_result"
    }
   ],
   "source": [
    "# set union\n",
    "x1|x2"
   ]
  },
  {
   "cell_type": "code",
   "execution_count": 15,
   "id": "eb417cb3-bfe1-4ee2-99a8-41eeb49b148d",
   "metadata": {},
   "outputs": [
    {
     "data": {
      "text/plain": [
       "{'abc', 'bar', 'baz', 'foo', 'quz'}"
      ]
     },
     "execution_count": 15,
     "metadata": {},
     "output_type": "execute_result"
    }
   ],
   "source": [
    "x1.union(x2)"
   ]
  },
  {
   "cell_type": "code",
   "execution_count": 16,
   "id": "d365d8c2-1aeb-45d5-a245-2bb7d441b589",
   "metadata": {},
   "outputs": [
    {
     "data": {
      "text/plain": [
       "{'bar'}"
      ]
     },
     "execution_count": 16,
     "metadata": {},
     "output_type": "execute_result"
    }
   ],
   "source": [
    "#intersection\n",
    "x1&x2"
   ]
  },
  {
   "cell_type": "code",
   "execution_count": 17,
   "id": "c23192fd-ad34-4416-8905-5721641dc076",
   "metadata": {},
   "outputs": [
    {
     "data": {
      "text/plain": [
       "{'bar'}"
      ]
     },
     "execution_count": 17,
     "metadata": {},
     "output_type": "execute_result"
    }
   ],
   "source": [
    "x1.intersection(x2)"
   ]
  },
  {
   "cell_type": "code",
   "execution_count": 18,
   "id": "43dd7cfd-878b-46d8-82bb-80ccc5962ae3",
   "metadata": {},
   "outputs": [
    {
     "data": {
      "text/plain": [
       "True"
      ]
     },
     "execution_count": 18,
     "metadata": {},
     "output_type": "execute_result"
    }
   ],
   "source": [
    "## subset\n",
    "x1 = {'foo','bar','baz'}\n",
    "x1.issubset({'foo','bar','baz','quz','ixy'})"
   ]
  },
  {
   "cell_type": "code",
   "execution_count": 19,
   "id": "038094b9-3703-408c-b2ec-9f10350689a7",
   "metadata": {},
   "outputs": [
    {
     "data": {
      "text/plain": [
       "{'bar', 'baz', 'foo'}"
      ]
     },
     "execution_count": 19,
     "metadata": {},
     "output_type": "execute_result"
    }
   ],
   "source": [
    "x1"
   ]
  },
  {
   "cell_type": "code",
   "execution_count": 20,
   "id": "d15ff642-8a46-4199-9a7a-b703c80eab62",
   "metadata": {},
   "outputs": [],
   "source": [
    "x1.update(['fuzzy'],['machine learning'])"
   ]
  },
  {
   "cell_type": "code",
   "execution_count": 21,
   "id": "644c4316-6c71-400b-a64e-325c6ff20dd4",
   "metadata": {},
   "outputs": [
    {
     "data": {
      "text/plain": [
       "{'bar', 'baz', 'foo', 'fuzzy', 'machine learning'}"
      ]
     },
     "execution_count": 21,
     "metadata": {},
     "output_type": "execute_result"
    }
   ],
   "source": [
    "x1"
   ]
  },
  {
   "cell_type": "code",
   "execution_count": 22,
   "id": "854f6976-e849-4bcb-ac03-b9c28d0825ba",
   "metadata": {},
   "outputs": [],
   "source": [
    "x1.add('supervised learning')"
   ]
  },
  {
   "cell_type": "code",
   "execution_count": 23,
   "id": "9cc7210c-ba94-4e6b-bbeb-4b6e6a34cf41",
   "metadata": {},
   "outputs": [
    {
     "data": {
      "text/plain": [
       "{'bar', 'baz', 'foo', 'fuzzy', 'machine learning', 'supervised learning'}"
      ]
     },
     "execution_count": 23,
     "metadata": {},
     "output_type": "execute_result"
    }
   ],
   "source": [
    "x1"
   ]
  },
  {
   "cell_type": "code",
   "execution_count": 24,
   "id": "ee2e5d49-bed7-4b3a-98b4-a97464970e07",
   "metadata": {},
   "outputs": [],
   "source": [
    "x1.remove('bar')"
   ]
  },
  {
   "cell_type": "code",
   "execution_count": 25,
   "id": "0d705210-41c0-4503-b9ba-f51ba2d6f035",
   "metadata": {},
   "outputs": [
    {
     "data": {
      "text/plain": [
       "{'baz', 'foo', 'fuzzy', 'machine learning', 'supervised learning'}"
      ]
     },
     "execution_count": 25,
     "metadata": {},
     "output_type": "execute_result"
    }
   ],
   "source": [
    "x1"
   ]
  },
  {
   "cell_type": "code",
   "execution_count": 26,
   "id": "d47fca45-d62d-4485-a672-29f1dc781a15",
   "metadata": {},
   "outputs": [],
   "source": [
    "x1.discard('baz')"
   ]
  },
  {
   "cell_type": "code",
   "execution_count": 27,
   "id": "c1788909-e6dd-498f-89de-08a6b6bea21b",
   "metadata": {},
   "outputs": [
    {
     "data": {
      "text/plain": [
       "{'foo', 'fuzzy', 'machine learning', 'supervised learning'}"
      ]
     },
     "execution_count": 27,
     "metadata": {},
     "output_type": "execute_result"
    }
   ],
   "source": [
    "x1"
   ]
  },
  {
   "cell_type": "code",
   "execution_count": 28,
   "id": "293562ce-4574-4483-82a2-b9470bc08bf8",
   "metadata": {},
   "outputs": [
    {
     "ename": "KeyError",
     "evalue": "'bar'",
     "output_type": "error",
     "traceback": [
      "\u001b[1;31m---------------------------------------------------------------------------\u001b[0m",
      "\u001b[1;31mKeyError\u001b[0m                                  Traceback (most recent call last)",
      "Cell \u001b[1;32mIn[28], line 1\u001b[0m\n\u001b[1;32m----> 1\u001b[0m \u001b[43mx1\u001b[49m\u001b[38;5;241;43m.\u001b[39;49m\u001b[43mremove\u001b[49m\u001b[43m(\u001b[49m\u001b[38;5;124;43m'\u001b[39;49m\u001b[38;5;124;43mbar\u001b[39;49m\u001b[38;5;124;43m'\u001b[39;49m\u001b[43m)\u001b[49m\n",
      "\u001b[1;31mKeyError\u001b[0m: 'bar'"
     ]
    }
   ],
   "source": [
    "x1.remove('bar')"
   ]
  },
  {
   "cell_type": "code",
   "execution_count": 29,
   "id": "b84fe00a-4276-40e3-8bb7-8af93a10dc9a",
   "metadata": {},
   "outputs": [],
   "source": [
    "x1.discard('bar')"
   ]
  },
  {
   "cell_type": "code",
   "execution_count": 30,
   "id": "142126fa-6249-4408-8f30-164786694f23",
   "metadata": {},
   "outputs": [
    {
     "data": {
      "text/plain": [
       "'machine learning'"
      ]
     },
     "execution_count": 30,
     "metadata": {},
     "output_type": "execute_result"
    }
   ],
   "source": [
    "x1.pop()"
   ]
  },
  {
   "cell_type": "code",
   "execution_count": 31,
   "id": "93d1ce9c-a4d3-406d-80ff-63b74b56752a",
   "metadata": {},
   "outputs": [
    {
     "data": {
      "text/plain": [
       "{'foo', 'fuzzy', 'supervised learning'}"
      ]
     },
     "execution_count": 31,
     "metadata": {},
     "output_type": "execute_result"
    }
   ],
   "source": [
    "x1"
   ]
  },
  {
   "cell_type": "code",
   "execution_count": 32,
   "id": "c79250f8-bfab-4cb2-a1e6-8bc25fe3b5ef",
   "metadata": {},
   "outputs": [
    {
     "data": {
      "text/plain": [
       "'supervised learning'"
      ]
     },
     "execution_count": 32,
     "metadata": {},
     "output_type": "execute_result"
    }
   ],
   "source": [
    "x1.pop()"
   ]
  },
  {
   "cell_type": "code",
   "execution_count": 33,
   "id": "23c1279c-3d47-4644-a235-24914598879a",
   "metadata": {},
   "outputs": [
    {
     "data": {
      "text/plain": [
       "{'foo', 'fuzzy'}"
      ]
     },
     "execution_count": 33,
     "metadata": {},
     "output_type": "execute_result"
    }
   ],
   "source": [
    "x1"
   ]
  },
  {
   "cell_type": "code",
   "execution_count": 34,
   "id": "3a8defa6-d550-4e4d-9702-39da67bbaf5e",
   "metadata": {},
   "outputs": [],
   "source": [
    "x1.clear()"
   ]
  },
  {
   "cell_type": "code",
   "execution_count": 35,
   "id": "2c877e05-5d70-43eb-bfba-b1646363ab32",
   "metadata": {},
   "outputs": [
    {
     "data": {
      "text/plain": [
       "set()"
      ]
     },
     "execution_count": 35,
     "metadata": {},
     "output_type": "execute_result"
    }
   ],
   "source": [
    "x1"
   ]
  },
  {
   "cell_type": "markdown",
   "id": "34d0495a-d61b-4fcc-b2b6-b96792de0a1f",
   "metadata": {},
   "source": [
    "## Function ####"
   ]
  },
  {
   "cell_type": "code",
   "execution_count": 36,
   "id": "5c25ea92-36f5-46ee-85b2-7e7baa32e621",
   "metadata": {},
   "outputs": [
    {
     "name": "stdout",
     "output_type": "stream",
     "text": [
      "30\n"
     ]
    }
   ],
   "source": [
    "# program to add two numbers\n",
    "a = 10\n",
    "b = 20\n",
    "c = a+b \n",
    "print(c)"
   ]
  },
  {
   "cell_type": "code",
   "execution_count": 38,
   "id": "f08908f0-b5fe-405a-95b4-c5fb229a9134",
   "metadata": {},
   "outputs": [
    {
     "data": {
      "text/plain": [
       "'\\n    def <function_name>:\\n        function_body\\n\\n    function calling--> function_name()\\n'"
      ]
     },
     "execution_count": 38,
     "metadata": {},
     "output_type": "execute_result"
    }
   ],
   "source": [
    "# function to add two numbers\n",
    "#1. function defination\n",
    "#2. function declearation\n",
    "#3. function calling    \n",
    "\n",
    "'''\n",
    "    def <function_name>:\n",
    "        function_body\n",
    "\n",
    "    function calling--> function_name()\n",
    "'''"
   ]
  },
  {
   "cell_type": "code",
   "execution_count": 45,
   "id": "8e2605b7-2fe6-4f89-8cbb-83037c9ce140",
   "metadata": {},
   "outputs": [
    {
     "name": "stdout",
     "output_type": "stream",
     "text": [
      "30\n"
     ]
    }
   ],
   "source": [
    "def add():\n",
    "    a = 10\n",
    "    b = 20\n",
    "    c = a+b\n",
    "    print(c)\n",
    "\n",
    "add()"
   ]
  },
  {
   "cell_type": "code",
   "execution_count": 47,
   "id": "91c38579-2cbb-438f-81f0-bff6bbd9d794",
   "metadata": {},
   "outputs": [
    {
     "name": "stdout",
     "output_type": "stream",
     "text": [
      "30\n"
     ]
    }
   ],
   "source": [
    "def add():\n",
    "    a = 10\n",
    "    b = 20\n",
    "    c = a+b\n",
    "    return c\n",
    "\n",
    "result = add()\n",
    "print(result)"
   ]
  },
  {
   "cell_type": "code",
   "execution_count": 48,
   "id": "df925ae0-f4e0-446d-a1f1-3cc13cd8ecd0",
   "metadata": {},
   "outputs": [
    {
     "name": "stdout",
     "output_type": "stream",
     "text": [
      "10\n"
     ]
    }
   ],
   "source": [
    "# passing an argument\n",
    "number = 10\n",
    "print(number)"
   ]
  },
  {
   "cell_type": "code",
   "execution_count": 52,
   "id": "fd1725a7-db18-40e4-bbb0-81f230984430",
   "metadata": {},
   "outputs": [
    {
     "name": "stdout",
     "output_type": "stream",
     "text": [
      "10\n"
     ]
    }
   ],
   "source": [
    "#function defination and declearation\n",
    "def showNumber(number):\n",
    "    print(number)\n",
    "# function calling with an argument\n",
    "showNumber(number)"
   ]
  },
  {
   "cell_type": "code",
   "execution_count": 53,
   "id": "9b845966-f901-4b81-8f9c-03cb9c0ee8c4",
   "metadata": {},
   "outputs": [
    {
     "name": "stdout",
     "output_type": "stream",
     "text": [
      "3.5\n"
     ]
    }
   ],
   "source": [
    "### function to calculate avg of a list\n",
    "\n",
    "## function defination for calculating avg of a list\n",
    "def avg(a_list):\n",
    "    result = ((sum(a_list))/len(a_list))\n",
    "    print(result)\n",
    "\n",
    "## decleare the list\n",
    "a_list = [1,2,3,4,5,6]\n",
    "\n",
    "#function calling with an argument that stores the a_list \n",
    "avg(a_list)"
   ]
  },
  {
   "cell_type": "code",
   "execution_count": 57,
   "id": "f408aa41-0b66-43d0-9157-8c3fe244f5e3",
   "metadata": {},
   "outputs": [
    {
     "data": {
      "text/plain": [
       "[1, 2, 33, 4, 5]"
      ]
     },
     "execution_count": 57,
     "metadata": {},
     "output_type": "execute_result"
    }
   ],
   "source": [
    "### write a python program to create a unique list from a given list using function\n",
    "#### Example input --> [1,2,2,33,33,1,4,5]\n",
    "#### output shuold be -->[1,2,33,4,5]\n",
    "\n",
    "\n",
    "'''\n",
    "    Program to find the uniques values \n",
    "    from a given list\n",
    "'''\n",
    "def unique_list(lst):\n",
    "    #declare a list variable to store unique values\n",
    "    result = []\n",
    "    #for loop to iterate over each item\n",
    "    for nums in lst:\n",
    "        if nums not in result:\n",
    "            result.append(nums)\n",
    "    return result\n",
    "\n",
    "# input list \n",
    "lst = [1,2,2,33,33,1,4,5]\n",
    "# function calling\n",
    "unique_list(lst)\n",
    "    "
   ]
  },
  {
   "cell_type": "code",
   "execution_count": null,
   "id": "cd47b5ca-0dff-48d4-9b71-03596dd38f12",
   "metadata": {},
   "outputs": [],
   "source": []
  }
 ],
 "metadata": {
  "kernelspec": {
   "display_name": "Python 3 (ipykernel)",
   "language": "python",
   "name": "python3"
  },
  "language_info": {
   "codemirror_mode": {
    "name": "ipython",
    "version": 3
   },
   "file_extension": ".py",
   "mimetype": "text/x-python",
   "name": "python",
   "nbconvert_exporter": "python",
   "pygments_lexer": "ipython3",
   "version": "3.11.4"
  }
 },
 "nbformat": 4,
 "nbformat_minor": 5
}
