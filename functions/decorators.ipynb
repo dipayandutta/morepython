{
 "cells": [
  {
   "cell_type": "markdown",
   "id": "e1b1da6e-23af-47b5-80ba-9d37cc10469e",
   "metadata": {},
   "source": [
    "### Nested function"
   ]
  },
  {
   "cell_type": "code",
   "execution_count": 1,
   "id": "fae03ce4-c268-4f5b-bcaf-675cf01149ed",
   "metadata": {},
   "outputs": [
    {
     "name": "stdout",
     "output_type": "stream",
     "text": [
      "10\n"
     ]
    }
   ],
   "source": [
    "def outer(x):\n",
    "    def inner(y):\n",
    "        return x+y\n",
    "    return inner\n",
    "\n",
    "outer_val = outer(5)\n",
    "inner_val = outer_val(5)\n",
    "print(inner_val)"
   ]
  },
  {
   "cell_type": "markdown",
   "id": "2eb258e4-e6ae-4f6a-b36d-77ebf842e4c9",
   "metadata": {},
   "source": [
    "### Pass function as an argument"
   ]
  },
  {
   "cell_type": "code",
   "execution_count": 2,
   "id": "f0d34b6c-eb5d-42d4-97f2-ecc49726f72e",
   "metadata": {},
   "outputs": [
    {
     "name": "stdout",
     "output_type": "stream",
     "text": [
      "62\n"
     ]
    }
   ],
   "source": [
    "def add(x,y):\n",
    "    return x+y\n",
    "\n",
    "def calculate(func,x,y):\n",
    "    return func(x,y)\n",
    "\n",
    "\n",
    "result = calculate(add,50,12)\n",
    "print(result)"
   ]
  },
  {
   "cell_type": "markdown",
   "id": "7c7092df-4508-4589-9767-bd1fb3306651",
   "metadata": {},
   "source": [
    "### Return a Function as a Value"
   ]
  },
  {
   "cell_type": "code",
   "execution_count": 3,
   "id": "381c9f75-62ea-42b9-9fa9-afd55dc09196",
   "metadata": {},
   "outputs": [
    {
     "name": "stdout",
     "output_type": "stream",
     "text": [
      "Hello, Python!\n"
     ]
    }
   ],
   "source": [
    "def greetings(name):\n",
    "    def hello():\n",
    "        return \"Hello, \"+name+\"!\"\n",
    "    return hello\n",
    "\n",
    "greet = greetings(\"Python\")\n",
    "print(greet())"
   ]
  },
  {
   "cell_type": "markdown",
   "id": "f6c13e17-ff97-454a-8049-f53c643e78ae",
   "metadata": {},
   "source": [
    "#### Python Decorators - Basically, a decorator takes in a function, adds some functionality and returns it.\r\n",
    "\r\n"
   ]
  },
  {
   "cell_type": "code",
   "execution_count": 5,
   "id": "9ffcd8b2-c4b8-4ae4-8a3d-9a47c3b958c5",
   "metadata": {},
   "outputs": [],
   "source": [
    "def make_pretty(func):\n",
    "    def inner():\n",
    "        print(\"I got Decorator\")\n",
    "        func()\n",
    "    return inner\n",
    "\n",
    "def ordinary():\n",
    "    print(\"I am ordinary\")"
   ]
  },
  {
   "cell_type": "code",
   "execution_count": 6,
   "id": "f8707ac1-91b0-48fa-b1ee-1444c0f9497c",
   "metadata": {},
   "outputs": [
    {
     "name": "stdout",
     "output_type": "stream",
     "text": [
      "I am ordinary\n"
     ]
    }
   ],
   "source": [
    "ordinary()"
   ]
  },
  {
   "cell_type": "code",
   "execution_count": 7,
   "id": "de44a225-5972-48a5-bd84-4ec06ae76f09",
   "metadata": {},
   "outputs": [
    {
     "ename": "TypeError",
     "evalue": "make_pretty() missing 1 required positional argument: 'func'",
     "output_type": "error",
     "traceback": [
      "\u001b[1;31m---------------------------------------------------------------------------\u001b[0m",
      "\u001b[1;31mTypeError\u001b[0m                                 Traceback (most recent call last)",
      "Cell \u001b[1;32mIn[7], line 1\u001b[0m\n\u001b[1;32m----> 1\u001b[0m \u001b[43mmake_pretty\u001b[49m\u001b[43m(\u001b[49m\u001b[43m)\u001b[49m\n",
      "\u001b[1;31mTypeError\u001b[0m: make_pretty() missing 1 required positional argument: 'func'"
     ]
    }
   ],
   "source": [
    "make_pretty()"
   ]
  },
  {
   "cell_type": "code",
   "execution_count": 8,
   "id": "1553b60d-149f-4dbf-9690-f8a1f72440a7",
   "metadata": {},
   "outputs": [
    {
     "name": "stdout",
     "output_type": "stream",
     "text": [
      "I got Decorator\n",
      "I am ordinary\n"
     ]
    }
   ],
   "source": [
    "# decorate the ordinary function\n",
    "decorated_func = make_pretty(ordinary)\n",
    "\n",
    "# call the decorated function\n",
    "decorated_func()"
   ]
  },
  {
   "cell_type": "markdown",
   "id": "b5b07026-934c-4e91-9c16-a25bb2bb2bc1",
   "metadata": {},
   "source": [
    "In the example shown above, make_pretty() is a decorator. Notice the code,\r\n",
    "\r\n"
   ]
  },
  {
   "cell_type": "markdown",
   "id": "2d007d4c-2993-4729-9f94-3f036bb0904c",
   "metadata": {},
   "source": [
    "### <b>@</b> symbol With Decorator"
   ]
  },
  {
   "cell_type": "code",
   "execution_count": 9,
   "id": "4144b213-acde-4b5a-b93d-640c407a3c68",
   "metadata": {},
   "outputs": [
    {
     "name": "stdout",
     "output_type": "stream",
     "text": [
      "I got decorator\n",
      "I am ordinary\n"
     ]
    }
   ],
   "source": [
    "def make_pretty(func):\n",
    "    def inner():\n",
    "        print(\"I got decorator\")\n",
    "        func()\n",
    "    return inner\n",
    "\n",
    "@make_pretty\n",
    "def ordinary():\n",
    "    print(\"I am ordinary\")\n",
    "\n",
    "ordinary()"
   ]
  },
  {
   "cell_type": "markdown",
   "id": "e9cf90f8-c90c-4be6-a4f0-ef3c70133cca",
   "metadata": {},
   "source": [
    "#### Decorator function with argument"
   ]
  },
  {
   "cell_type": "code",
   "execution_count": null,
   "id": "30919cf5-87ec-4206-af47-beb970cbfaae",
   "metadata": {},
   "outputs": [],
   "source": [
    "def smart_divide(func):\n",
    "    def inner(a,b):\n",
    "        print(\"I am going to divide\")\n",
    "        if b == 0:\n",
    "            print(\"Not Divided\")\n",
    "            return \n",
    "        return func(a,b)\n",
    "    return inner\n",
    "\n",
    "@smart_divide\n",
    "def\n"
   ]
  }
 ],
 "metadata": {
  "kernelspec": {
   "display_name": "Python 3 (ipykernel)",
   "language": "python",
   "name": "python3"
  },
  "language_info": {
   "codemirror_mode": {
    "name": "ipython",
    "version": 3
   },
   "file_extension": ".py",
   "mimetype": "text/x-python",
   "name": "python",
   "nbconvert_exporter": "python",
   "pygments_lexer": "ipython3",
   "version": "3.11.4"
  }
 },
 "nbformat": 4,
 "nbformat_minor": 5
}
