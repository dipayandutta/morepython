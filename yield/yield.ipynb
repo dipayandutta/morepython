{
 "cells": [
  {
   "cell_type": "markdown",
   "id": "9b38572b-f46c-4214-b006-97269847cea7",
   "metadata": {},
   "source": [
    "The most conveninet way technique for creating iterator in python is through <b>Generators</b>.A generator is implemented with very similar syntax as python functions.but instead of returning values a <b>yield</b> statement is executed to indicate each element of the series. <b><i>yield</b></i> statement returns a generator object object to the caller.The value in the generator object can be accessed using the <b>next()</b> function ."
   ]
  },
  {
   "cell_type": "code",
   "execution_count": 4,
   "id": "53298a2a-9866-4fc8-8995-854852fc2ee1",
   "metadata": {},
   "outputs": [],
   "source": [
    "def factors(number):\n",
    "    result = []\n",
    "    for k in range(1,number+1):\n",
    "        if number %k ==0:\n",
    "            result.append(k)\n",
    "    return result\n"
   ]
  },
  {
   "cell_type": "code",
   "execution_count": 5,
   "id": "ae17ee5f-dcef-4254-ba02-494ab119ec90",
   "metadata": {},
   "outputs": [],
   "source": [
    "result = factors(10)"
   ]
  },
  {
   "cell_type": "code",
   "execution_count": 6,
   "id": "dbbf236c-80dc-4c73-9a47-ef3f93fce41c",
   "metadata": {},
   "outputs": [
    {
     "name": "stdout",
     "output_type": "stream",
     "text": [
      "[1, 2, 5, 10]\n"
     ]
    }
   ],
   "source": [
    "print(result)"
   ]
  },
  {
   "cell_type": "code",
   "execution_count": 7,
   "id": "727f240f-c010-4945-b88b-f4702b73ba8d",
   "metadata": {},
   "outputs": [],
   "source": [
    "##Generators that computer factors\n",
    "def factors(number):\n",
    "    for k in range(1,number+1):\n",
    "        if number%k == 0:\n",
    "            yield k"
   ]
  },
  {
   "cell_type": "code",
   "execution_count": 8,
   "id": "ac4aff79-4393-4faf-b8f3-2a26b86c449b",
   "metadata": {},
   "outputs": [],
   "source": [
    "result = factors(20)"
   ]
  },
  {
   "cell_type": "code",
   "execution_count": 9,
   "id": "7c95ff72-b970-44e5-86b1-1854768706f1",
   "metadata": {},
   "outputs": [
    {
     "name": "stdout",
     "output_type": "stream",
     "text": [
      "<generator object factors at 0x00000243E4B8D000>\n"
     ]
    }
   ],
   "source": [
    "print(result)"
   ]
  },
  {
   "cell_type": "code",
   "execution_count": 11,
   "id": "27652081-583c-4d72-bad6-7e0b702272c3",
   "metadata": {},
   "outputs": [
    {
     "data": {
      "text/plain": [
       "<generator object factors at 0x00000243E4B8DC40>"
      ]
     },
     "execution_count": 11,
     "metadata": {},
     "output_type": "execute_result"
    }
   ],
   "source": [
    "factors(20)"
   ]
  },
  {
   "cell_type": "code",
   "execution_count": 13,
   "id": "368c47d4-d054-4ff9-b992-582f7bb9ce64",
   "metadata": {},
   "outputs": [
    {
     "name": "stdout",
     "output_type": "stream",
     "text": [
      "1\n"
     ]
    }
   ],
   "source": [
    "print(next(result))"
   ]
  },
  {
   "cell_type": "code",
   "execution_count": 14,
   "id": "b8ae754f-8788-4699-af77-1285ade81b1e",
   "metadata": {},
   "outputs": [
    {
     "name": "stdout",
     "output_type": "stream",
     "text": [
      "2\n"
     ]
    }
   ],
   "source": [
    "print(next(result))"
   ]
  },
  {
   "cell_type": "code",
   "execution_count": 15,
   "id": "4dacacba-b238-4535-86da-b7c4ec03a16a",
   "metadata": {},
   "outputs": [
    {
     "name": "stdout",
     "output_type": "stream",
     "text": [
      "4\n"
     ]
    }
   ],
   "source": [
    "print(next(result))"
   ]
  },
  {
   "cell_type": "code",
   "execution_count": 16,
   "id": "198db783-9563-4855-ad89-c983c6e0cd94",
   "metadata": {},
   "outputs": [
    {
     "name": "stdout",
     "output_type": "stream",
     "text": [
      "5\n"
     ]
    }
   ],
   "source": [
    "print(next(result))"
   ]
  },
  {
   "cell_type": "code",
   "execution_count": 20,
   "id": "071b8646-d852-419e-824f-45f2ba9c22b8",
   "metadata": {},
   "outputs": [
    {
     "name": "stdout",
     "output_type": "stream",
     "text": [
      "[1, 4, 5, 7, 10, 12, 14, 13]\n",
      "4\n"
     ]
    }
   ],
   "source": [
    "def print_even(lst):\n",
    "    for i in lst:\n",
    "        if i%2 ==0:\n",
    "            yield i\n",
    "\n",
    "lst = [1,4,5,7,10,12,14,13]\n",
    "\n",
    "#print the original list \n",
    "print(lst)\n",
    "\n",
    "result = print_even(lst)\n",
    "print(next(result))"
   ]
  },
  {
   "cell_type": "code",
   "execution_count": 21,
   "id": "5e746347-3ee6-4091-abe4-766c8c34af40",
   "metadata": {},
   "outputs": [
    {
     "name": "stdout",
     "output_type": "stream",
     "text": [
      "10\n"
     ]
    }
   ],
   "source": [
    "print(next(result))"
   ]
  },
  {
   "cell_type": "code",
   "execution_count": 22,
   "id": "a137b9c2-f27e-43a9-a33c-530eb46c318a",
   "metadata": {},
   "outputs": [
    {
     "name": "stdout",
     "output_type": "stream",
     "text": [
      "4\n",
      "10\n",
      "12\n",
      "14\n"
     ]
    }
   ],
   "source": [
    "for j in print_even(lst):\n",
    "    print(j)"
   ]
  },
  {
   "cell_type": "code",
   "execution_count": 23,
   "id": "248bb30b-6e3d-4837-96f6-62f7714b0c4a",
   "metadata": {},
   "outputs": [
    {
     "name": "stdout",
     "output_type": "stream",
     "text": [
      "13\n"
     ]
    }
   ],
   "source": [
    "print(next(result)+1)"
   ]
  },
  {
   "cell_type": "code",
   "execution_count": 27,
   "id": "dfff8037-fb32-41ce-aa9e-dbf7f6b67e3c",
   "metadata": {},
   "outputs": [
    {
     "name": "stdout",
     "output_type": "stream",
     "text": [
      "First Message!\n"
     ]
    }
   ],
   "source": [
    "## simple yield example\n",
    "def show_msg():\n",
    "    yield \"First Message!\"\n",
    "    yield \"Second Message!\"\n",
    "\n",
    "obj = show_msg()\n",
    "print(next(obj))"
   ]
  },
  {
   "cell_type": "code",
   "execution_count": 28,
   "id": "3f5ba3cf-c83d-4f10-b0f2-982c6dde568f",
   "metadata": {},
   "outputs": [
    {
     "name": "stdout",
     "output_type": "stream",
     "text": [
      "Second Message!\n"
     ]
    }
   ],
   "source": [
    "print(next(obj))"
   ]
  },
  {
   "cell_type": "code",
   "execution_count": 29,
   "id": "a5aa55af-d6ab-4e94-aed0-22e537a43f96",
   "metadata": {},
   "outputs": [
    {
     "ename": "StopIteration",
     "evalue": "",
     "output_type": "error",
     "traceback": [
      "\u001b[1;31m---------------------------------------------------------------------------\u001b[0m",
      "\u001b[1;31mStopIteration\u001b[0m                             Traceback (most recent call last)",
      "Cell \u001b[1;32mIn[29], line 1\u001b[0m\n\u001b[1;32m----> 1\u001b[0m \u001b[38;5;28mprint\u001b[39m(\u001b[38;5;28;43mnext\u001b[39;49m\u001b[43m(\u001b[49m\u001b[43mobj\u001b[49m\u001b[43m)\u001b[49m)\n",
      "\u001b[1;31mStopIteration\u001b[0m: "
     ]
    }
   ],
   "source": [
    "print(next(obj))"
   ]
  },
  {
   "cell_type": "code",
   "execution_count": null,
   "id": "24abc0b3-1d00-4807-96bd-10de23400f84",
   "metadata": {},
   "outputs": [],
   "source": []
  }
 ],
 "metadata": {
  "kernelspec": {
   "display_name": "Python 3 (ipykernel)",
   "language": "python",
   "name": "python3"
  },
  "language_info": {
   "codemirror_mode": {
    "name": "ipython",
    "version": 3
   },
   "file_extension": ".py",
   "mimetype": "text/x-python",
   "name": "python",
   "nbconvert_exporter": "python",
   "pygments_lexer": "ipython3",
   "version": "3.11.4"
  }
 },
 "nbformat": 4,
 "nbformat_minor": 5
}
